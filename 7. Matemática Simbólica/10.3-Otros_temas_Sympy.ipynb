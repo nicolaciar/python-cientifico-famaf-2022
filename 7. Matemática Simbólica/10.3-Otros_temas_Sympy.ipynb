{
 "cells": [
  {
   "cell_type": "markdown",
   "metadata": {},
   "source": [
    "# Otros temas de la libreria simbolica:\n",
    "## Matrices y gráficos"
   ]
  },
  {
   "cell_type": "code",
   "execution_count": 1,
   "metadata": {},
   "outputs": [],
   "source": [
    "from sympy import *\n",
    "init_printing()"
   ]
  },
  {
   "cell_type": "markdown",
   "metadata": {},
   "source": [
    "## Matrices"
   ]
  },
  {
   "cell_type": "markdown",
   "metadata": {},
   "source": [
    "Creamos una matriz llena de símbolos"
   ]
  },
  {
   "cell_type": "code",
   "execution_count": 2,
   "metadata": {},
   "outputs": [
    {
     "data": {
      "text/latex": [
       "$\\displaystyle \\left[\\begin{matrix}a & b\\\\c & d\\end{matrix}\\right]$"
      ],
      "text/plain": [
       "⎡a  b⎤\n",
       "⎢    ⎥\n",
       "⎣c  d⎦"
      ]
     },
     "execution_count": 2,
     "metadata": {},
     "output_type": "execute_result"
    }
   ],
   "source": [
    "a, b, c, d = symbols('a b c d')\n",
    "A = Matrix([\n",
    "            [a, b],\n",
    "            [c, d]\n",
    "    ])\n",
    "A"
   ]
  },
  {
   "cell_type": "markdown",
   "metadata": {},
   "source": [
    "Determinemos los autovalores\n",
    "## eigenvals()"
   ]
  },
  {
   "cell_type": "markdown",
   "metadata": {},
   "source": [
    "Calculemos las inversa de la matriz\n",
    "## `inv()`"
   ]
  },
  {
   "cell_type": "code",
   "execution_count": 3,
   "metadata": {},
   "outputs": [
    {
     "data": {
      "image/png": "[encoded data removed]",
      "text/latex": [
       "$\\displaystyle \\left\\{ \\frac{a}{2} + \\frac{d}{2} - \\frac{\\sqrt{a^{2} - 2 a d + 4 b c + d^{2}}}{2} : 1, \\  \\frac{a}{2} + \\frac{d}{2} + \\frac{\\sqrt{a^{2} - 2 a d + 4 b c + d^{2}}}{2} : 1\\right\\}$"
      ],
      "text/plain": [
       "⎧           _________________________                _________________________\n",
       "⎪          ╱  2                    2                ╱  2                    2 \n",
       "⎨a   d   ╲╱  a  - 2⋅a⋅d + 4⋅b⋅c + d       a   d   ╲╱  a  - 2⋅a⋅d + 4⋅b⋅c + d  \n",
       "⎪─ + ─ - ────────────────────────────: 1, ─ + ─ + ────────────────────────────\n",
       "⎩2   2                2                   2   2                2              \n",
       "\n",
       "   ⎫\n",
       "   ⎪\n",
       "   ⎬\n",
       ": 1⎪\n",
       "   ⎭"
      ]
     },
     "execution_count": 3,
     "metadata": {},
     "output_type": "execute_result"
    }
   ],
   "source": [
    "A.eigenvals()"
   ]
  },
  {
   "cell_type": "code",
   "execution_count": 4,
   "metadata": {},
   "outputs": [
    {
     "data": {
      "text/latex": [
       "$\\displaystyle \\left[\\begin{matrix}\\frac{d}{a d - b c} & - \\frac{b}{a d - b c}\\\\- \\frac{c}{a d - b c} & \\frac{a}{a d - b c}\\end{matrix}\\right]$"
      ],
      "text/plain": [
       "⎡    d         -b    ⎤\n",
       "⎢─────────  ─────────⎥\n",
       "⎢a⋅d - b⋅c  a⋅d - b⋅c⎥\n",
       "⎢                    ⎥\n",
       "⎢   -c          a    ⎥\n",
       "⎢─────────  ─────────⎥\n",
       "⎣a⋅d - b⋅c  a⋅d - b⋅c⎦"
      ]
     },
     "execution_count": 4,
     "metadata": {},
     "output_type": "execute_result"
    }
   ],
   "source": [
    "A.inv()"
   ]
  },
  {
   "cell_type": "code",
   "execution_count": 5,
   "metadata": {},
   "outputs": [
    {
     "data": {
      "text/latex": [
       "$\\displaystyle \\left[\\begin{matrix}1 & 2\\\\3 & 4\\end{matrix}\\right]$"
      ],
      "text/plain": [
       "⎡1  2⎤\n",
       "⎢    ⎥\n",
       "⎣3  4⎦"
      ]
     },
     "execution_count": 5,
     "metadata": {},
     "output_type": "execute_result"
    }
   ],
   "source": [
    "A.subs({a:1,b:2,c:3,d:4})"
   ]
  },
  {
   "cell_type": "code",
   "execution_count": null,
   "metadata": {},
   "outputs": [],
   "source": []
  },
  {
   "cell_type": "code",
   "execution_count": 6,
   "metadata": {},
   "outputs": [
    {
     "data": {
      "image/png": "[encoded data removed]",
      "text/latex": [
       "$\\displaystyle \\left( a, \\  b, \\  c, \\  d\\right)$"
      ],
      "text/plain": [
       "(a, b, c, d)"
      ]
     },
     "execution_count": 6,
     "metadata": {},
     "output_type": "execute_result"
    }
   ],
   "source": [
    "a,b,c,d = symbols('a,b,c,d')\n",
    "a,b,c,d"
   ]
  },
  {
   "cell_type": "code",
   "execution_count": 7,
   "metadata": {},
   "outputs": [
    {
     "data": {
      "text/latex": [
       "$\\displaystyle \\left[\\begin{matrix}a & b\\\\c & d\\end{matrix}\\right]$"
      ],
      "text/plain": [
       "⎡a  b⎤\n",
       "⎢    ⎥\n",
       "⎣c  d⎦"
      ]
     },
     "execution_count": 7,
     "metadata": {},
     "output_type": "execute_result"
    }
   ],
   "source": [
    "A = Matrix([[a,b],[c,d]])\n",
    "A"
   ]
  },
  {
   "cell_type": "markdown",
   "metadata": {},
   "source": [
    "### Elevamos al cuadrado la matriz"
   ]
  },
  {
   "cell_type": "code",
   "execution_count": 8,
   "metadata": {},
   "outputs": [
    {
     "data": {
      "text/latex": [
       "$\\displaystyle \\left[\\begin{matrix}a^{2} + b c & a b + b d\\\\a c + c d & b c + d^{2}\\end{matrix}\\right]$"
      ],
      "text/plain": [
       "⎡ 2                  ⎤\n",
       "⎢a  + b⋅c   a⋅b + b⋅d⎥\n",
       "⎢                    ⎥\n",
       "⎢                  2 ⎥\n",
       "⎣a⋅c + c⋅d  b⋅c + d  ⎦"
      ]
     },
     "execution_count": 8,
     "metadata": {},
     "output_type": "execute_result"
    }
   ],
   "source": [
    "A**2"
   ]
  },
  {
   "cell_type": "code",
   "execution_count": 9,
   "metadata": {},
   "outputs": [
    {
     "data": {
      "text/latex": [
       "$\\displaystyle \\left[\\begin{matrix}3 a & 3 b\\\\3 c & 3 d\\end{matrix}\\right]$"
      ],
      "text/plain": [
       "⎡3⋅a  3⋅b⎤\n",
       "⎢        ⎥\n",
       "⎣3⋅c  3⋅d⎦"
      ]
     },
     "execution_count": 9,
     "metadata": {},
     "output_type": "execute_result"
    }
   ],
   "source": [
    "A*3"
   ]
  },
  {
   "cell_type": "code",
   "execution_count": 10,
   "metadata": {},
   "outputs": [
    {
     "data": {
      "text/latex": [
       "$\\displaystyle \\left[\\begin{matrix}a \\left(a^{2} + b c\\right) + b \\left(a c + c d\\right) & a \\left(a b + b d\\right) + b \\left(b c + d^{2}\\right)\\\\c \\left(a^{2} + b c\\right) + d \\left(a c + c d\\right) & c \\left(a b + b d\\right) + d \\left(b c + d^{2}\\right)\\end{matrix}\\right]$"
      ],
      "text/plain": [
       "⎡  ⎛ 2      ⎞                                    ⎛       2⎞⎤\n",
       "⎢a⋅⎝a  + b⋅c⎠ + b⋅(a⋅c + c⋅d)  a⋅(a⋅b + b⋅d) + b⋅⎝b⋅c + d ⎠⎥\n",
       "⎢                                                          ⎥\n",
       "⎢  ⎛ 2      ⎞                                    ⎛       2⎞⎥\n",
       "⎣c⋅⎝a  + b⋅c⎠ + d⋅(a⋅c + c⋅d)  c⋅(a⋅b + b⋅d) + d⋅⎝b⋅c + d ⎠⎦"
      ]
     },
     "execution_count": 10,
     "metadata": {},
     "output_type": "execute_result"
    }
   ],
   "source": [
    "A**3"
   ]
  },
  {
   "cell_type": "code",
   "execution_count": 11,
   "metadata": {},
   "outputs": [
    {
     "data": {
      "image/png": "[encoded data removed]",
      "text/latex": [
       "$\\displaystyle \\left( a, \\  b, \\  c, \\  d, \\  e, \\  f, \\  g, \\  h, \\  i, \\  j, \\  k, \\  l, \\  m, \\  n, \\  o, \\  p\\right)$"
      ],
      "text/plain": [
       "(a, b, c, d, e, f, g, h, i, j, k, l, m, n, o, p)"
      ]
     },
     "execution_count": 11,
     "metadata": {},
     "output_type": "execute_result"
    }
   ],
   "source": [
    "a,b,c,d,e,f,g,h,i,j,k,l,m,n,o,p = symbols('a,b,c,d,e,f,g,h,i,j,k,l,m,n,o,p')\n",
    "a,b,c,d,e,f,g,h,i,j,k,l,m,n,o,p"
   ]
  },
  {
   "cell_type": "code",
   "execution_count": 12,
   "metadata": {},
   "outputs": [
    {
     "data": {
      "text/latex": [
       "$\\displaystyle \\left[\\begin{matrix}a & b & c & d\\\\e & f & g & h\\\\i & j & k & l\\\\m & n & o & p\\end{matrix}\\right]$"
      ],
      "text/plain": [
       "⎡a  b  c  d⎤\n",
       "⎢          ⎥\n",
       "⎢e  f  g  h⎥\n",
       "⎢          ⎥\n",
       "⎢i  j  k  l⎥\n",
       "⎢          ⎥\n",
       "⎣m  n  o  p⎦"
      ]
     },
     "execution_count": 12,
     "metadata": {},
     "output_type": "execute_result"
    }
   ],
   "source": [
    "B = Matrix([[a,b,c,d],[e,f,g,h],[i,j,k,l],[m,n,o,p]])\n",
    "B"
   ]
  },
  {
   "cell_type": "code",
   "execution_count": 52,
   "metadata": {},
   "outputs": [
    {
     "data": {
      "text/latex": [
       "$\\displaystyle \\left[\\begin{matrix}\\left(a^{2} + b e + c i + d m\\right)^{2} + \\left(a b + b f + c j + d n\\right) \\left(a e + e f + g i + h m\\right) + \\left(a c + b g + c k + d o\\right) \\left(a i + e j + i k + l m\\right) + \\left(a d + b h + c l + d p\\right) \\left(a m + e n + i o + m p\\right) & \\left(a^{2} + b e + c i + d m\\right) \\left(a b + b f + c j + d n\\right) + \\left(a b + b f + c j + d n\\right) \\left(b e + f^{2} + g j + h n\\right) + \\left(a c + b g + c k + d o\\right) \\left(b i + f j + j k + l n\\right) + \\left(a d + b h + c l + d p\\right) \\left(b m + f n + j o + n p\\right) & \\left(a^{2} + b e + c i + d m\\right) \\left(a c + b g + c k + d o\\right) + \\left(a b + b f + c j + d n\\right) \\left(c e + f g + g k + h o\\right) + \\left(a c + b g + c k + d o\\right) \\left(c i + g j + k^{2} + l o\\right) + \\left(a d + b h + c l + d p\\right) \\left(c m + g n + k o + o p\\right) & \\left(a^{2} + b e + c i + d m\\right) \\left(a d + b h + c l + d p\\right) + \\left(a b + b f + c j + d n\\right) \\left(d e + f h + g l + h p\\right) + \\left(a c + b g + c k + d o\\right) \\left(d i + h j + k l + l p\\right) + \\left(a d + b h + c l + d p\\right) \\left(d m + h n + l o + p^{2}\\right)\\\\\\left(a^{2} + b e + c i + d m\\right) \\left(a e + e f + g i + h m\\right) + \\left(a e + e f + g i + h m\\right) \\left(b e + f^{2} + g j + h n\\right) + \\left(a i + e j + i k + l m\\right) \\left(c e + f g + g k + h o\\right) + \\left(a m + e n + i o + m p\\right) \\left(d e + f h + g l + h p\\right) & \\left(a b + b f + c j + d n\\right) \\left(a e + e f + g i + h m\\right) + \\left(b e + f^{2} + g j + h n\\right)^{2} + \\left(b i + f j + j k + l n\\right) \\left(c e + f g + g k + h o\\right) + \\left(b m + f n + j o + n p\\right) \\left(d e + f h + g l + h p\\right) & \\left(a c + b g + c k + d o\\right) \\left(a e + e f + g i + h m\\right) + \\left(b e + f^{2} + g j + h n\\right) \\left(c e + f g + g k + h o\\right) + \\left(c e + f g + g k + h o\\right) \\left(c i + g j + k^{2} + l o\\right) + \\left(c m + g n + k o + o p\\right) \\left(d e + f h + g l + h p\\right) & \\left(a d + b h + c l + d p\\right) \\left(a e + e f + g i + h m\\right) + \\left(b e + f^{2} + g j + h n\\right) \\left(d e + f h + g l + h p\\right) + \\left(c e + f g + g k + h o\\right) \\left(d i + h j + k l + l p\\right) + \\left(d e + f h + g l + h p\\right) \\left(d m + h n + l o + p^{2}\\right)\\\\\\left(a^{2} + b e + c i + d m\\right) \\left(a i + e j + i k + l m\\right) + \\left(a e + e f + g i + h m\\right) \\left(b i + f j + j k + l n\\right) + \\left(a i + e j + i k + l m\\right) \\left(c i + g j + k^{2} + l o\\right) + \\left(a m + e n + i o + m p\\right) \\left(d i + h j + k l + l p\\right) & \\left(a b + b f + c j + d n\\right) \\left(a i + e j + i k + l m\\right) + \\left(b e + f^{2} + g j + h n\\right) \\left(b i + f j + j k + l n\\right) + \\left(b i + f j + j k + l n\\right) \\left(c i + g j + k^{2} + l o\\right) + \\left(b m + f n + j o + n p\\right) \\left(d i + h j + k l + l p\\right) & \\left(a c + b g + c k + d o\\right) \\left(a i + e j + i k + l m\\right) + \\left(b i + f j + j k + l n\\right) \\left(c e + f g + g k + h o\\right) + \\left(c i + g j + k^{2} + l o\\right)^{2} + \\left(c m + g n + k o + o p\\right) \\left(d i + h j + k l + l p\\right) & \\left(a d + b h + c l + d p\\right) \\left(a i + e j + i k + l m\\right) + \\left(b i + f j + j k + l n\\right) \\left(d e + f h + g l + h p\\right) + \\left(c i + g j + k^{2} + l o\\right) \\left(d i + h j + k l + l p\\right) + \\left(d i + h j + k l + l p\\right) \\left(d m + h n + l o + p^{2}\\right)\\\\\\left(a^{2} + b e + c i + d m\\right) \\left(a m + e n + i o + m p\\right) + \\left(a e + e f + g i + h m\\right) \\left(b m + f n + j o + n p\\right) + \\left(a i + e j + i k + l m\\right) \\left(c m + g n + k o + o p\\right) + \\left(a m + e n + i o + m p\\right) \\left(d m + h n + l o + p^{2}\\right) & \\left(a b + b f + c j + d n\\right) \\left(a m + e n + i o + m p\\right) + \\left(b e + f^{2} + g j + h n\\right) \\left(b m + f n + j o + n p\\right) + \\left(b i + f j + j k + l n\\right) \\left(c m + g n + k o + o p\\right) + \\left(b m + f n + j o + n p\\right) \\left(d m + h n + l o + p^{2}\\right) & \\left(a c + b g + c k + d o\\right) \\left(a m + e n + i o + m p\\right) + \\left(b m + f n + j o + n p\\right) \\left(c e + f g + g k + h o\\right) + \\left(c i + g j + k^{2} + l o\\right) \\left(c m + g n + k o + o p\\right) + \\left(c m + g n + k o + o p\\right) \\left(d m + h n + l o + p^{2}\\right) & \\left(a d + b h + c l + d p\\right) \\left(a m + e n + i o + m p\\right) + \\left(b m + f n + j o + n p\\right) \\left(d e + f h + g l + h p\\right) + \\left(c m + g n + k o + o p\\right) \\left(d i + h j + k l + l p\\right) + \\left(d m + h n + l o + p^{2}\\right)^{2}\\end{matrix}\\right]$"
      ],
      "text/plain": [
       "⎡                                 2                                           \n",
       "⎢           ⎛ 2                  ⎞                                            \n",
       "⎢           ⎝a  + b⋅e + c⋅i + d⋅m⎠  + (a⋅b + b⋅f + c⋅j + d⋅n)⋅(a⋅e + e⋅f + g⋅i\n",
       "⎢                                                                             \n",
       "⎢                                                                             \n",
       "⎢⎛ 2                  ⎞                                                   ⎛   \n",
       "⎢⎝a  + b⋅e + c⋅i + d⋅m⎠⋅(a⋅e + e⋅f + g⋅i + h⋅m) + (a⋅e + e⋅f + g⋅i + h⋅m)⋅⎝b⋅e\n",
       "⎢                                                                             \n",
       "⎢                                                                             \n",
       "⎢⎛ 2                  ⎞                                                       \n",
       "⎢⎝a  + b⋅e + c⋅i + d⋅m⎠⋅(a⋅i + e⋅j + i⋅k + l⋅m) + (a⋅e + e⋅f + g⋅i + h⋅m)⋅(b⋅i\n",
       "⎢                                                                             \n",
       "⎢                                                                             \n",
       "⎢⎛ 2                  ⎞                                                       \n",
       "⎣⎝a  + b⋅e + c⋅i + d⋅m⎠⋅(a⋅m + e⋅n + i⋅o + m⋅p) + (a⋅e + e⋅f + g⋅i + h⋅m)⋅(b⋅m\n",
       "\n",
       "                                                                              \n",
       "                                                                              \n",
       " + h⋅m) + (a⋅c + b⋅g + c⋅k + d⋅o)⋅(a⋅i + e⋅j + i⋅k + l⋅m) + (a⋅d + b⋅h + c⋅l +\n",
       "                                                                              \n",
       "                                                                              \n",
       "    2            ⎞                                                            \n",
       " + f  + g⋅j + h⋅n⎠ + (a⋅i + e⋅j + i⋅k + l⋅m)⋅(c⋅e + f⋅g + g⋅k + h⋅o) + (a⋅m + \n",
       "                                                                              \n",
       "                                                                              \n",
       "                                              ⎛             2      ⎞          \n",
       " + f⋅j + j⋅k + l⋅n) + (a⋅i + e⋅j + i⋅k + l⋅m)⋅⎝c⋅i + g⋅j + k  + l⋅o⎠ + (a⋅m + \n",
       "                                                                              \n",
       "                                                                              \n",
       "                                                                              \n",
       " + f⋅n + j⋅o + n⋅p) + (a⋅i + e⋅j + i⋅k + l⋅m)⋅(c⋅m + g⋅n + k⋅o + o⋅p) + (a⋅m +\n",
       "\n",
       "                                                                              \n",
       "                                          ⎛ 2                  ⎞              \n",
       " d⋅p)⋅(a⋅m + e⋅n + i⋅o + m⋅p)             ⎝a  + b⋅e + c⋅i + d⋅m⎠⋅(a⋅b + b⋅f + \n",
       "                                                                              \n",
       "                                                                              \n",
       "                                                                              \n",
       "e⋅n + i⋅o + m⋅p)⋅(d⋅e + f⋅h + g⋅l + h⋅p)             (a⋅b + b⋅f + c⋅j + d⋅n)⋅(\n",
       "                                                                              \n",
       "                                                                              \n",
       "                                                                              \n",
       "e⋅n + i⋅o + m⋅p)⋅(d⋅i + h⋅j + k⋅l + l⋅p)  (a⋅b + b⋅f + c⋅j + d⋅n)⋅(a⋅i + e⋅j +\n",
       "                                                                              \n",
       "                                                                              \n",
       "                  ⎛                   2⎞                                      \n",
       " e⋅n + i⋅o + m⋅p)⋅⎝d⋅m + h⋅n + l⋅o + p ⎠  (a⋅b + b⋅f + c⋅j + d⋅n)⋅(a⋅m + e⋅n +\n",
       "\n",
       "                                                                              \n",
       "                                     ⎛       2            ⎞                   \n",
       "c⋅j + d⋅n) + (a⋅b + b⋅f + c⋅j + d⋅n)⋅⎝b⋅e + f  + g⋅j + h⋅n⎠ + (a⋅c + b⋅g + c⋅k\n",
       "                                                                              \n",
       "                                               2                              \n",
       "                         ⎛       2            ⎞                               \n",
       "a⋅e + e⋅f + g⋅i + h⋅m) + ⎝b⋅e + f  + g⋅j + h⋅n⎠  + (b⋅i + f⋅j + j⋅k + l⋅n)⋅(c⋅\n",
       "                                                                              \n",
       "                                                                              \n",
       "              ⎛       2            ⎞                                          \n",
       " i⋅k + l⋅m) + ⎝b⋅e + f  + g⋅j + h⋅n⎠⋅(b⋅i + f⋅j + j⋅k + l⋅n) + (b⋅i + f⋅j + j⋅\n",
       "                                                                              \n",
       "                                                                              \n",
       "              ⎛       2            ⎞                                          \n",
       " i⋅o + m⋅p) + ⎝b⋅e + f  + g⋅j + h⋅n⎠⋅(b⋅m + f⋅n + j⋅o + n⋅p) + (b⋅i + f⋅j + j⋅\n",
       "\n",
       "                                                                              \n",
       "                                                                              \n",
       " + d⋅o)⋅(b⋅i + f⋅j + j⋅k + l⋅n) + (a⋅d + b⋅h + c⋅l + d⋅p)⋅(b⋅m + f⋅n + j⋅o + n\n",
       "                                                                              \n",
       "                                                                              \n",
       "                                                                              \n",
       "e + f⋅g + g⋅k + h⋅o) + (b⋅m + f⋅n + j⋅o + n⋅p)⋅(d⋅e + f⋅h + g⋅l + h⋅p)        \n",
       "                                                                              \n",
       "                                                                              \n",
       "         ⎛             2      ⎞                                               \n",
       "k + l⋅n)⋅⎝c⋅i + g⋅j + k  + l⋅o⎠ + (b⋅m + f⋅n + j⋅o + n⋅p)⋅(d⋅i + h⋅j + k⋅l + l\n",
       "                                                                              \n",
       "                                                                              \n",
       "                                                           ⎛                  \n",
       "k + l⋅n)⋅(c⋅m + g⋅n + k⋅o + o⋅p) + (b⋅m + f⋅n + j⋅o + n⋅p)⋅⎝d⋅m + h⋅n + l⋅o + \n",
       "\n",
       "                                                                              \n",
       "     ⎛ 2                  ⎞                                                   \n",
       "⋅p)  ⎝a  + b⋅e + c⋅i + d⋅m⎠⋅(a⋅c + b⋅g + c⋅k + d⋅o) + (a⋅b + b⋅f + c⋅j + d⋅n)⋅\n",
       "                                                                              \n",
       "                                                                              \n",
       "                                                       ⎛       2            ⎞ \n",
       "     (a⋅c + b⋅g + c⋅k + d⋅o)⋅(a⋅e + e⋅f + g⋅i + h⋅m) + ⎝b⋅e + f  + g⋅j + h⋅n⎠⋅\n",
       "                                                                              \n",
       "                                                                              \n",
       "                                                                              \n",
       "⋅p)             (a⋅c + b⋅g + c⋅k + d⋅o)⋅(a⋅i + e⋅j + i⋅k + l⋅m) + (b⋅i + f⋅j +\n",
       "                                                                              \n",
       "                                                                              \n",
       " 2⎞                                                                           \n",
       "p ⎠  (a⋅c + b⋅g + c⋅k + d⋅o)⋅(a⋅m + e⋅n + i⋅o + m⋅p) + (b⋅m + f⋅n + j⋅o + n⋅p)\n",
       "\n",
       "                                                                              \n",
       "                                                  ⎛             2      ⎞      \n",
       "(c⋅e + f⋅g + g⋅k + h⋅o) + (a⋅c + b⋅g + c⋅k + d⋅o)⋅⎝c⋅i + g⋅j + k  + l⋅o⎠ + (a⋅\n",
       "                                                                              \n",
       "                                                                              \n",
       "                                                  ⎛             2      ⎞      \n",
       "(c⋅e + f⋅g + g⋅k + h⋅o) + (c⋅e + f⋅g + g⋅k + h⋅o)⋅⎝c⋅i + g⋅j + k  + l⋅o⎠ + (c⋅\n",
       "                                                                              \n",
       "                                                            2                 \n",
       "                                      ⎛             2      ⎞                  \n",
       " j⋅k + l⋅n)⋅(c⋅e + f⋅g + g⋅k + h⋅o) + ⎝c⋅i + g⋅j + k  + l⋅o⎠  + (c⋅m + g⋅n + k\n",
       "                                                                              \n",
       "                                                                              \n",
       "                           ⎛             2      ⎞                             \n",
       "⋅(c⋅e + f⋅g + g⋅k + h⋅o) + ⎝c⋅i + g⋅j + k  + l⋅o⎠⋅(c⋅m + g⋅n + k⋅o + o⋅p) + (c\n",
       "\n",
       "                                                                              \n",
       "                                              ⎛ 2                  ⎞          \n",
       "d + b⋅h + c⋅l + d⋅p)⋅(c⋅m + g⋅n + k⋅o + o⋅p)  ⎝a  + b⋅e + c⋅i + d⋅m⎠⋅(a⋅d + b⋅\n",
       "                                                                              \n",
       "                                                                              \n",
       "                                                                              \n",
       "m + g⋅n + k⋅o + o⋅p)⋅(d⋅e + f⋅h + g⋅l + h⋅p)  (a⋅d + b⋅h + c⋅l + d⋅p)⋅(a⋅e + e\n",
       "                                                                              \n",
       "                                                                              \n",
       "                                                                              \n",
       "⋅o + o⋅p)⋅(d⋅i + h⋅j + k⋅l + l⋅p)             (a⋅d + b⋅h + c⋅l + d⋅p)⋅(a⋅i + e\n",
       "                                                                              \n",
       "                                                                              \n",
       "                      ⎛                   2⎞                                  \n",
       "⋅m + g⋅n + k⋅o + o⋅p)⋅⎝d⋅m + h⋅n + l⋅o + p ⎠             (a⋅d + b⋅h + c⋅l + d⋅\n",
       "\n",
       "                                                                              \n",
       "                                                                              \n",
       "h + c⋅l + d⋅p) + (a⋅b + b⋅f + c⋅j + d⋅n)⋅(d⋅e + f⋅h + g⋅l + h⋅p) + (a⋅c + b⋅g \n",
       "                                                                              \n",
       "                                                                              \n",
       "                  ⎛       2            ⎞                                      \n",
       "⋅f + g⋅i + h⋅m) + ⎝b⋅e + f  + g⋅j + h⋅n⎠⋅(d⋅e + f⋅h + g⋅l + h⋅p) + (c⋅e + f⋅g \n",
       "                                                                              \n",
       "                                                                              \n",
       "                                                                    ⎛         \n",
       "⋅j + i⋅k + l⋅m) + (b⋅i + f⋅j + j⋅k + l⋅n)⋅(d⋅e + f⋅h + g⋅l + h⋅p) + ⎝c⋅i + g⋅j\n",
       "                                                                              \n",
       "                                                                              \n",
       "                                                                              \n",
       "p)⋅(a⋅m + e⋅n + i⋅o + m⋅p) + (b⋅m + f⋅n + j⋅o + n⋅p)⋅(d⋅e + f⋅h + g⋅l + h⋅p) +\n",
       "\n",
       "                                                                              \n",
       "                                                               ⎛              \n",
       "+ c⋅k + d⋅o)⋅(d⋅i + h⋅j + k⋅l + l⋅p) + (a⋅d + b⋅h + c⋅l + d⋅p)⋅⎝d⋅m + h⋅n + l⋅\n",
       "                                                                              \n",
       "                                                                              \n",
       "                                                               ⎛              \n",
       "+ g⋅k + h⋅o)⋅(d⋅i + h⋅j + k⋅l + l⋅p) + (d⋅e + f⋅h + g⋅l + h⋅p)⋅⎝d⋅m + h⋅n + l⋅\n",
       "                                                                              \n",
       "                                                                              \n",
       "    2      ⎞                                                   ⎛              \n",
       " + k  + l⋅o⎠⋅(d⋅i + h⋅j + k⋅l + l⋅p) + (d⋅i + h⋅j + k⋅l + l⋅p)⋅⎝d⋅m + h⋅n + l⋅\n",
       "                                                                              \n",
       "                                                                         2    \n",
       "                                                   ⎛                   2⎞     \n",
       " (c⋅m + g⋅n + k⋅o + o⋅p)⋅(d⋅i + h⋅j + k⋅l + l⋅p) + ⎝d⋅m + h⋅n + l⋅o + p ⎠     \n",
       "\n",
       "       ⎤\n",
       "     2⎞⎥\n",
       "o + p ⎠⎥\n",
       "       ⎥\n",
       "       ⎥\n",
       "     2⎞⎥\n",
       "o + p ⎠⎥\n",
       "       ⎥\n",
       "       ⎥\n",
       "     2⎞⎥\n",
       "o + p ⎠⎥\n",
       "       ⎥\n",
       "       ⎥\n",
       "       ⎥\n",
       "       ⎦"
      ]
     },
     "execution_count": 52,
     "metadata": {},
     "output_type": "execute_result"
    }
   ],
   "source": [
    "B**4"
   ]
  },
  {
   "cell_type": "code",
   "execution_count": 14,
   "metadata": {},
   "outputs": [
    {
     "name": "stdout",
     "output_type": "stream",
     "text": [
      "x\n"
     ]
    }
   ],
   "source": [
    "x = symbols ('x')\n",
    "pprint(x)"
   ]
  },
  {
   "cell_type": "code",
   "execution_count": 15,
   "metadata": {},
   "outputs": [
    {
     "data": {
      "image/png": "[encoded data removed]",
      "text/latex": [
       "$\\displaystyle \\left(x + 1\\right)^{4}$"
      ],
      "text/plain": [
       "       4\n",
       "(x + 1) "
      ]
     },
     "execution_count": 15,
     "metadata": {},
     "output_type": "execute_result"
    }
   ],
   "source": [
    "f= (x+1)**4\n",
    "f"
   ]
  },
  {
   "cell_type": "code",
   "execution_count": 16,
   "metadata": {},
   "outputs": [
    {
     "data": {
      "image/png": "[encoded data removed]",
      "text/latex": [
       "$\\displaystyle x^{4} + 4 x^{3} + 6 x^{2} + 4 x + 1$"
      ],
      "text/plain": [
       " 4      3      2          \n",
       "x  + 4⋅x  + 6⋅x  + 4⋅x + 1"
      ]
     },
     "execution_count": 16,
     "metadata": {},
     "output_type": "execute_result"
    }
   ],
   "source": [
    "f_expand =expand(f)\n",
    "f_expand"
   ]
  },
  {
   "cell_type": "code",
   "execution_count": 17,
   "metadata": {},
   "outputs": [
    {
     "data": {
      "image/png": "[encoded data removed]",
      "text/latex": [
       "$\\displaystyle \\left(x + 1\\right)^{4}$"
      ],
      "text/plain": [
       "       4\n",
       "(x + 1) "
      ]
     },
     "execution_count": 17,
     "metadata": {},
     "output_type": "execute_result"
    }
   ],
   "source": [
    "f_fac = factor(f_expand)\n",
    "f_fac"
   ]
  },
  {
   "cell_type": "code",
   "execution_count": 18,
   "metadata": {},
   "outputs": [
    {
     "data": {
      "image/png": "[encoded data removed]",
      "text/latex": [
       "$\\displaystyle 16$"
      ],
      "text/plain": [
       "16"
      ]
     },
     "execution_count": 18,
     "metadata": {},
     "output_type": "execute_result"
    }
   ],
   "source": [
    "f.subs(x,1)"
   ]
  },
  {
   "cell_type": "code",
   "execution_count": 19,
   "metadata": {},
   "outputs": [
    {
     "data": {
      "image/png": "[encoded data removed]",
      "text/latex": [
       "$\\displaystyle \\left( a, \\  b\\right)$"
      ],
      "text/plain": [
       "(a, b)"
      ]
     },
     "execution_count": 19,
     "metadata": {},
     "output_type": "execute_result"
    }
   ],
   "source": [
    "a, b = symbols('a, b')\n",
    "a, b"
   ]
  },
  {
   "cell_type": "code",
   "execution_count": null,
   "metadata": {},
   "outputs": [],
   "source": []
  },
  {
   "cell_type": "code",
   "execution_count": 20,
   "metadata": {},
   "outputs": [
    {
     "data": {
      "image/png": "[encoded data removed]",
      "text/latex": [
       "$\\displaystyle \\sqrt{a^{2} + b^{2}}$"
      ],
      "text/plain": [
       "   _________\n",
       "  ╱  2    2 \n",
       "╲╱  a  + b  "
      ]
     },
     "execution_count": 20,
     "metadata": {},
     "output_type": "execute_result"
    }
   ],
   "source": [
    "c = sqrt(a**2+b**2)\n",
    "c"
   ]
  },
  {
   "cell_type": "code",
   "execution_count": 21,
   "metadata": {},
   "outputs": [
    {
     "data": {
      "image/png": "[encoded data removed]",
      "text/latex": [
       "$\\displaystyle 5$"
      ],
      "text/plain": [
       "5"
      ]
     },
     "execution_count": 21,
     "metadata": {},
     "output_type": "execute_result"
    }
   ],
   "source": [
    "c.subs({a:3,b:4})"
   ]
  },
  {
   "cell_type": "markdown",
   "metadata": {},
   "source": [
    "### Gráficos"
   ]
  },
  {
   "cell_type": "code",
   "execution_count": 36,
   "metadata": {},
   "outputs": [
    {
     "name": "stdout",
     "output_type": "stream",
     "text": [
      "x\n"
     ]
    }
   ],
   "source": [
    "x = symbols ('x')\n",
    "pprint(x)"
   ]
  },
  {
   "cell_type": "code",
   "execution_count": 37,
   "metadata": {},
   "outputs": [
    {
     "data": {
      "image/png": "[encoded data removed]",
      "text/latex": [
       "$\\displaystyle \\left(x + 1\\right)^{4}$"
      ],
      "text/plain": [
       "       4\n",
       "(x + 1) "
      ]
     },
     "execution_count": 37,
     "metadata": {},
     "output_type": "execute_result"
    }
   ],
   "source": [
    "f= (x+1)**4\n",
    "f"
   ]
  },
  {
   "cell_type": "code",
   "execution_count": 39,
   "metadata": {},
   "outputs": [
    {
     "data": {
      "image/png": "[encoded data removed]",
      "text/plain": [
       "<Figure size 432x288 with 1 Axes>"
      ]
     },
     "metadata": {},
     "output_type": "display_data"
    },
    {
     "data": {
      "text/plain": [
       "<sympy.plotting.plot.Plot at 0x14dda30a20f0>"
      ]
     },
     "execution_count": 39,
     "metadata": {},
     "output_type": "execute_result"
    }
   ],
   "source": [
    "plot(f,(x,-3,2),line_color=\"red\")"
   ]
  },
  {
   "cell_type": "code",
   "execution_count": 45,
   "metadata": {},
   "outputs": [],
   "source": [
    "# Definamos primero una expresión matemática para graficar\n",
    "x = symbols('x')\n",
    "f1 = 3*x\n",
    "f2 = sin(x)"
   ]
  },
  {
   "cell_type": "code",
   "execution_count": 46,
   "metadata": {},
   "outputs": [
    {
     "data": {
      "image/png": "[encoded data removed]",
      "text/plain": [
       "<Figure size 432x288 with 1 Axes>"
      ]
     },
     "metadata": {},
     "output_type": "display_data"
    },
    {
     "data": {
      "text/plain": [
       "<sympy.plotting.plot.Plot at 0x14dda28d5b00>"
      ]
     },
     "execution_count": 46,
     "metadata": {},
     "output_type": "execute_result"
    }
   ],
   "source": [
    "plot(f1,f2,(x,-3,2),line_color=\"red\")"
   ]
  },
  {
   "cell_type": "code",
   "execution_count": 43,
   "metadata": {},
   "outputs": [
    {
     "data": {
      "image/png": "[encoded data removed]",
      "text/latex": [
       "$\\displaystyle x^{3} - 5 x$"
      ],
      "text/plain": [
       " 3      \n",
       "x  - 5⋅x"
      ]
     },
     "execution_count": 43,
     "metadata": {},
     "output_type": "execute_result"
    }
   ],
   "source": [
    "# Definamos otra expresión matemática para graficar\n",
    "x = Symbol('x')\n",
    "y = Symbol('y')\n",
    "f = x**3 - 5 * x\n",
    "f"
   ]
  },
  {
   "cell_type": "code",
   "execution_count": 47,
   "metadata": {},
   "outputs": [
    {
     "data": {
      "image/png": "[encoded data removed]",
      "text/plain": [
       "<Figure size 432x288 with 1 Axes>"
      ]
     },
     "metadata": {},
     "output_type": "display_data"
    },
    {
     "data": {
      "text/plain": [
       "<sympy.plotting.plot.Plot at 0x14dda28d5dd8>"
      ]
     },
     "execution_count": 47,
     "metadata": {},
     "output_type": "execute_result"
    }
   ],
   "source": [
    "plot(f,(x,-3,2))"
   ]
  },
  {
   "cell_type": "code",
   "execution_count": 48,
   "metadata": {},
   "outputs": [
    {
     "data": {
      "image/png": "[encoded data removed]",
      "text/plain": [
       "<Figure size 432x288 with 1 Axes>"
      ]
     },
     "metadata": {},
     "output_type": "display_data"
    },
    {
     "data": {
      "text/plain": [
       "<sympy.plotting.plot.Plot at 0x14dda27c5e10>"
      ]
     },
     "execution_count": 48,
     "metadata": {},
     "output_type": "execute_result"
    }
   ],
   "source": [
    "# Hagamos otro gráfico inlcuido en el mismo\n",
    "plot(f,x**2,(x,-3,2))"
   ]
  },
  {
   "cell_type": "code",
   "execution_count": 30,
   "metadata": {},
   "outputs": [
    {
     "data": {
      "image/png": "[encoded data removed]",
      "text/plain": [
       "<Figure size 432x288 with 1 Axes>"
      ]
     },
     "metadata": {},
     "output_type": "display_data"
    },
    {
     "data": {
      "text/plain": [
       "<sympy.plotting.plot.Plot at 0x14dda32f6eb8>"
      ]
     },
     "execution_count": 30,
     "metadata": {},
     "output_type": "execute_result"
    }
   ],
   "source": [
    "# definamos otra función mas, por ejemplo:\n",
    "g = x**2\n",
    "plot(f,g,(x,-3,2),(x-1,1),line_color=3, xlabel='Eje x', ylabel='Eje y')"
   ]
  },
  {
   "cell_type": "code",
   "execution_count": 49,
   "metadata": {},
   "outputs": [
    {
     "data": {
      "image/png": "[encoded data removed]",
      "text/plain": [
       "<Figure size 432x288 with 1 Axes>"
      ]
     },
     "metadata": {},
     "output_type": "display_data"
    },
    {
     "data": {
      "text/plain": [
       "<sympy.plotting.plot.Plot at 0x14dda273eac8>"
      ]
     },
     "execution_count": 49,
     "metadata": {},
     "output_type": "execute_result"
    }
   ],
   "source": [
    "plot((f1,(x,-1,1)),(f2,(x,-pi,pi)),line_color=\"blue\")"
   ]
  },
  {
   "cell_type": "code",
   "execution_count": 50,
   "metadata": {
    "scrolled": true
   },
   "outputs": [
    {
     "data": {
      "image/png": "[encoded data removed]",
      "text/plain": [
       "<Figure size 432x288 with 1 Axes>"
      ]
     },
     "metadata": {},
     "output_type": "display_data"
    }
   ],
   "source": [
    "x= symbols('x')\n",
    "p1 = plot(x,(x,-2,2),line_color=\"blue\", show=False)\n",
    "p2 = plot(x**2,(x,-2,2),line_color=\"red\", show=False)\n",
    "p3 = plot(x**3,(x,-2,2),line_color=\"green\", show=False)\n",
    "p1.extend(p2)\n",
    "p1.extend(p3)\n",
    "p1.show()"
   ]
  },
  {
   "cell_type": "code",
   "execution_count": 51,
   "metadata": {},
   "outputs": [],
   "source": [
    "f3 = log(x)"
   ]
  },
  {
   "cell_type": "code",
   "execution_count": 34,
   "metadata": {},
   "outputs": [
    {
     "data": {
      "image/png": "[encoded data removed]",
      "text/plain": [
       "<Figure size 432x288 with 1 Axes>"
      ]
     },
     "metadata": {},
     "output_type": "display_data"
    },
    {
     "data": {
      "text/plain": [
       "<sympy.plotting.plot.Plot at 0x14fb46eec160>"
      ]
     },
     "execution_count": 34,
     "metadata": {},
     "output_type": "execute_result"
    }
   ],
   "source": [
    "plot(f3,(x,-13,13),line_color=\"red\")"
   ]
  },
  {
   "cell_type": "code",
   "execution_count": 35,
   "metadata": {},
   "outputs": [],
   "source": [
    "x = symbols('x')\n",
    "f1 = 30*x**2\n",
    "f2 = 40*log(f1)"
   ]
  },
  {
   "cell_type": "code",
   "execution_count": 36,
   "metadata": {},
   "outputs": [
    {
     "data": {
      "image/png": "[encoded data removed]",
      "text/plain": [
       "<Figure size 432x288 with 1 Axes>"
      ]
     },
     "metadata": {},
     "output_type": "display_data"
    },
    {
     "data": {
      "text/plain": [
       "<sympy.plotting.plot.Plot at 0x14fb70712d68>"
      ]
     },
     "execution_count": 36,
     "metadata": {},
     "output_type": "execute_result"
    }
   ],
   "source": [
    "plot(f2,(x,-13,13),line_color=\"green\")"
   ]
  },
  {
   "cell_type": "code",
   "execution_count": null,
   "metadata": {},
   "outputs": [],
   "source": []
  }
 ],
 "metadata": {
  "kernelspec": {
   "display_name": "Python 3",
   "language": "python",
   "name": "python3"
  },
  "language_info": {
   "codemirror_mode": {
    "name": "ipython",
    "version": 3
   },
   "file_extension": ".py",
   "mimetype": "text/x-python",
   "name": "python",
   "nbconvert_exporter": "python",
   "pygments_lexer": "ipython3",
   "version": "3.6.9"
  }
 },
 "nbformat": 4,
 "nbformat_minor": 5
}
