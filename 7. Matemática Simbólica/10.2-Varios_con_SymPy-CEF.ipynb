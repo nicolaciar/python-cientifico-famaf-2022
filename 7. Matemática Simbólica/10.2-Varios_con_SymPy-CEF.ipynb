{
 "cells": [
  {
   "cell_type": "markdown",
   "metadata": {},
   "source": [
    "![](http://sympy.org/static/images/logo.png)"
   ]
  },
  {
   "cell_type": "markdown",
   "metadata": {},
   "source": [
    "# SymPy\n",
    "\n",
    "SymPy is a package for symbolic calculations in python, similar to Mathematica. It works with expressions containing symbols."
   ]
  },
  {
   "cell_type": "code",
   "execution_count": 1,
   "metadata": {},
   "outputs": [],
   "source": [
    "from sympy import *\n",
    "init_printing()"
   ]
  },
  {
   "cell_type": "markdown",
   "metadata": {},
   "source": [
    "Los símbolos son ladrillos básicos utilizados para construir expresiones. Cada símbolo tiene un nombre usado para imprimir expresiones. Los objetos de la clase Symboldeben crearse y asignarse a las variables de Python para ser usados ​​en expresiones. El nombre del símbolo y el nombre de la variable a la que se asigna este símbolo son dos cosas independientes, y uno puede escribir abc=Symbol('xyz'). Pero luego uno tiene que escribir abc en las expresiones de entrada, mientras SymPy que escribirá xyz en las de salida, produciendo confusión innecesaria. El nombre de la variable python debería ser el mismo que el nombre del símbolo para simplificar.\n",
    "\n",
    "En lenguajes específicamente diseñados para cálculos simbólicos, como Mathematica, si se usa una variable a la que no se le ha asignado nada, significa automáticamente un símbolo con el mismo nombre. Python no ha sido diseñado para cálculos simbólicos. Si utiliza una variable a la que no se le ha asignado nada, recibirá un mensaje de error. Los objetos de símbolos tienen que ser creados explícitamente."
   ]
  },
  {
   "cell_type": "markdown",
   "metadata": {},
   "source": [
    "### A continuación hacemos las declaraciones para imprimir en LaTex"
   ]
  },
  {
   "cell_type": "code",
   "execution_count": 2,
   "metadata": {},
   "outputs": [],
   "source": [
    "from sympy import init_printing"
   ]
  },
  {
   "cell_type": "code",
   "execution_count": 3,
   "metadata": {},
   "outputs": [],
   "source": [
    "init_printing()"
   ]
  },
  {
   "cell_type": "code",
   "execution_count": 4,
   "metadata": {},
   "outputs": [],
   "source": [
    "x = Symbol('x')"
   ]
  },
  {
   "cell_type": "markdown",
   "metadata": {},
   "source": [
    "##### Se pueden definir varios símbolos a la vez. La cadena se divide en espacios.\n"
   ]
  },
  {
   "cell_type": "markdown",
   "metadata": {},
   "source": [
    "#### Podemos hacer:"
   ]
  },
  {
   "cell_type": "code",
   "execution_count": 6,
   "metadata": {},
   "outputs": [],
   "source": [
    "a,b,c = symbols('x,y,z')"
   ]
  },
  {
   "cell_type": "markdown",
   "metadata": {},
   "source": [
    "#### Es mejor hacer:"
   ]
  },
  {
   "cell_type": "code",
   "execution_count": 7,
   "metadata": {},
   "outputs": [],
   "source": [
    "x,y,z = symbols('x,y,z')"
   ]
  },
  {
   "cell_type": "code",
   "execution_count": 8,
   "metadata": {},
   "outputs": [
    {
     "data": {
      "image/png": "[encoded data removed]",
      "text/latex": [
       "$\\displaystyle x^{2} - 1$"
      ],
      "text/plain": [
       " 2    \n",
       "x  - 1"
      ]
     },
     "execution_count": 8,
     "metadata": {},
     "output_type": "execute_result"
    }
   ],
   "source": [
    "a = x**2-1\n",
    "a"
   ]
  },
  {
   "cell_type": "markdown",
   "metadata": {},
   "source": [
    "Vamos a sustituir y + 1 para x."
   ]
  },
  {
   "cell_type": "code",
   "execution_count": 9,
   "metadata": {},
   "outputs": [
    {
     "data": {
      "image/png": "[encoded data removed]",
      "text/latex": [
       "$\\displaystyle \\left(y + 1\\right)^{2} - 1$"
      ],
      "text/plain": [
       "       2    \n",
       "(y + 1)  - 1"
      ]
     },
     "execution_count": 9,
     "metadata": {},
     "output_type": "execute_result"
    }
   ],
   "source": [
    "a.subs(x,y+1)"
   ]
  },
  {
   "cell_type": "markdown",
   "metadata": {},
   "source": [
    "# Polinomios y funciones racionales\n",
    "\n",
    "SymPy No expande los paréntesis automáticamente. La función expand se utiliza para esto."
   ]
  },
  {
   "cell_type": "code",
   "execution_count": 10,
   "metadata": {},
   "outputs": [
    {
     "data": {
      "image/png": "[encoded data removed]",
      "text/latex": [
       "$\\displaystyle \\left(x + y - z\\right)^{6}$"
      ],
      "text/plain": [
       "           6\n",
       "(x + y - z) "
      ]
     },
     "execution_count": 10,
     "metadata": {},
     "output_type": "execute_result"
    }
   ],
   "source": [
    "a = (x+y-z)**6\n",
    "a"
   ]
  },
  {
   "cell_type": "code",
   "execution_count": 11,
   "metadata": {},
   "outputs": [
    {
     "data": {
      "image/png": "[encoded data removed]",
      "text/latex": [
       "$\\displaystyle x^{6} + 6 x^{5} y - 6 x^{5} z + 15 x^{4} y^{2} - 30 x^{4} y z + 15 x^{4} z^{2} + 20 x^{3} y^{3} - 60 x^{3} y^{2} z + 60 x^{3} y z^{2} - 20 x^{3} z^{3} + 15 x^{2} y^{4} - 60 x^{2} y^{3} z + 90 x^{2} y^{2} z^{2} - 60 x^{2} y z^{3} + 15 x^{2} z^{4} + 6 x y^{5} - 30 x y^{4} z + 60 x y^{3} z^{2} - 60 x y^{2} z^{3} + 30 x y z^{4} - 6 x z^{5} + y^{6} - 6 y^{5} z + 15 y^{4} z^{2} - 20 y^{3} z^{3} + 15 y^{2} z^{4} - 6 y z^{5} + z^{6}$"
      ],
      "text/plain": [
       " 6      5        5         4  2       4           4  2       3  3       3  2  \n",
       "x  + 6⋅x ⋅y - 6⋅x ⋅z + 15⋅x ⋅y  - 30⋅x ⋅y⋅z + 15⋅x ⋅z  + 20⋅x ⋅y  - 60⋅x ⋅y ⋅z\n",
       "\n",
       "       3    2       3  3       2  4       2  3         2  2  2       2    3   \n",
       " + 60⋅x ⋅y⋅z  - 20⋅x ⋅z  + 15⋅x ⋅y  - 60⋅x ⋅y ⋅z + 90⋅x ⋅y ⋅z  - 60⋅x ⋅y⋅z  + \n",
       "\n",
       "    2  4        5         4           3  2         2  3           4        5  \n",
       "15⋅x ⋅z  + 6⋅x⋅y  - 30⋅x⋅y ⋅z + 60⋅x⋅y ⋅z  - 60⋅x⋅y ⋅z  + 30⋅x⋅y⋅z  - 6⋅x⋅z  +\n",
       "\n",
       "  6      5         4  2       3  3       2  4        5    6\n",
       " y  - 6⋅y ⋅z + 15⋅y ⋅z  - 20⋅y ⋅z  + 15⋅y ⋅z  - 6⋅y⋅z  + z "
      ]
     },
     "execution_count": 11,
     "metadata": {},
     "output_type": "execute_result"
    }
   ],
   "source": [
    "a = expand(a)\n",
    "a"
   ]
  },
  {
   "cell_type": "markdown",
   "metadata": {},
   "source": [
    "Grado del polinomio  $a$ en $x$."
   ]
  },
  {
   "cell_type": "code",
   "execution_count": 12,
   "metadata": {},
   "outputs": [
    {
     "data": {
      "image/png": "[encoded data removed]",
      "text/latex": [
       "$\\displaystyle 6$"
      ],
      "text/plain": [
       "6"
      ]
     },
     "execution_count": 12,
     "metadata": {},
     "output_type": "execute_result"
    }
   ],
   "source": [
    "degree(a,x)"
   ]
  },
  {
   "cell_type": "code",
   "execution_count": 13,
   "metadata": {},
   "outputs": [
    {
     "data": {
      "image/png": "[encoded data removed]",
      "text/latex": [
       "$\\displaystyle 6$"
      ],
      "text/plain": [
       "6"
      ]
     },
     "execution_count": 13,
     "metadata": {},
     "output_type": "execute_result"
    }
   ],
   "source": [
    "degree(a,y)"
   ]
  },
  {
   "cell_type": "code",
   "execution_count": 14,
   "metadata": {},
   "outputs": [
    {
     "data": {
      "image/png": "[encoded data removed]",
      "text/latex": [
       "$\\displaystyle 6$"
      ],
      "text/plain": [
       "6"
      ]
     },
     "execution_count": 14,
     "metadata": {},
     "output_type": "execute_result"
    }
   ],
   "source": [
    "degree(a,z)"
   ]
  },
  {
   "cell_type": "markdown",
   "metadata": {},
   "source": [
    "reordenemos los términos con la misma potencia de $x$."
   ]
  },
  {
   "cell_type": "code",
   "execution_count": 15,
   "metadata": {},
   "outputs": [
    {
     "data": {
      "image/png": "[encoded data removed]",
      "text/latex": [
       "$\\displaystyle x^{6} + x^{5} \\left(6 y - 6 z\\right) + x^{4} \\left(15 y^{2} - 30 y z + 15 z^{2}\\right) + x^{3} \\left(20 y^{3} - 60 y^{2} z + 60 y z^{2} - 20 z^{3}\\right) + x^{2} \\left(15 y^{4} - 60 y^{3} z + 90 y^{2} z^{2} - 60 y z^{3} + 15 z^{4}\\right) + x \\left(6 y^{5} - 30 y^{4} z + 60 y^{3} z^{2} - 60 y^{2} z^{3} + 30 y z^{4} - 6 z^{5}\\right) + y^{6} - 6 y^{5} z + 15 y^{4} z^{2} - 20 y^{3} z^{3} + 15 y^{2} z^{4} - 6 y z^{5} + z^{6}$"
      ],
      "text/plain": [
       " 6    5                4 ⎛    2                2⎞    3 ⎛    3       2         \n",
       "x  + x ⋅(6⋅y - 6⋅z) + x ⋅⎝15⋅y  - 30⋅y⋅z + 15⋅z ⎠ + x ⋅⎝20⋅y  - 60⋅y ⋅z + 60⋅y\n",
       "\n",
       "  2       3⎞    2 ⎛    4       3         2  2         3       4⎞     ⎛   5    \n",
       "⋅z  - 20⋅z ⎠ + x ⋅⎝15⋅y  - 60⋅y ⋅z + 90⋅y ⋅z  - 60⋅y⋅z  + 15⋅z ⎠ + x⋅⎝6⋅y  - 3\n",
       "\n",
       "   4         3  2       2  3         4      5⎞    6      5         4  2       \n",
       "0⋅y ⋅z + 60⋅y ⋅z  - 60⋅y ⋅z  + 30⋅y⋅z  - 6⋅z ⎠ + y  - 6⋅y ⋅z + 15⋅y ⋅z  - 20⋅y\n",
       "\n",
       "3  3       2  4        5    6\n",
       " ⋅z  + 15⋅y ⋅z  - 6⋅y⋅z  + z "
      ]
     },
     "execution_count": 15,
     "metadata": {},
     "output_type": "execute_result"
    }
   ],
   "source": [
    "collect(a,x)"
   ]
  },
  {
   "cell_type": "markdown",
   "metadata": {},
   "source": [
    "Cualquier polinomio con coeficientes enteros se puede factorizar en polinomios con coeficientes enteros (que no se pueden factorizar más). Existen algoritmos eficientes para hacer esto."
   ]
  },
  {
   "cell_type": "code",
   "execution_count": 16,
   "metadata": {},
   "outputs": [
    {
     "data": {
      "image/png": "[encoded data removed]",
      "text/latex": [
       "$\\displaystyle x^{6} + x^{5} \\left(6 y - 6 z\\right) + x^{4} \\left(15 y^{2} - 30 y z + 15 z^{2}\\right) + x^{3} \\left(20 y^{3} - 60 y^{2} z + 60 y z^{2} - 20 z^{3}\\right) + x^{2} \\left(15 y^{4} - 60 y^{3} z + 90 y^{2} z^{2} - 60 y z^{3} + 15 z^{4}\\right) + x \\left(6 y^{5} - 30 y^{4} z + 60 y^{3} z^{2} - 60 y^{2} z^{3} + 30 y z^{4} - 6 z^{5}\\right) + y^{6} - 6 y^{5} z + 15 y^{4} z^{2} - 20 y^{3} z^{3} + 15 y^{2} z^{4} - 6 y z^{5} + z^{6}$"
      ],
      "text/plain": [
       " 6    5                4 ⎛    2                2⎞    3 ⎛    3       2         \n",
       "x  + x ⋅(6⋅y - 6⋅z) + x ⋅⎝15⋅y  - 30⋅y⋅z + 15⋅z ⎠ + x ⋅⎝20⋅y  - 60⋅y ⋅z + 60⋅y\n",
       "\n",
       "  2       3⎞    2 ⎛    4       3         2  2         3       4⎞     ⎛   5    \n",
       "⋅z  - 20⋅z ⎠ + x ⋅⎝15⋅y  - 60⋅y ⋅z + 90⋅y ⋅z  - 60⋅y⋅z  + 15⋅z ⎠ + x⋅⎝6⋅y  - 3\n",
       "\n",
       "   4         3  2       2  3         4      5⎞    6      5         4  2       \n",
       "0⋅y ⋅z + 60⋅y ⋅z  - 60⋅y ⋅z  + 30⋅y⋅z  - 6⋅z ⎠ + y  - 6⋅y ⋅z + 15⋅y ⋅z  - 20⋅y\n",
       "\n",
       "3  3       2  4        5    6\n",
       " ⋅z  + 15⋅y ⋅z  - 6⋅y⋅z  + z "
      ]
     },
     "execution_count": 16,
     "metadata": {},
     "output_type": "execute_result"
    }
   ],
   "source": [
    "aa = collect(a,x)\n",
    "aa"
   ]
  },
  {
   "cell_type": "code",
   "execution_count": 17,
   "metadata": {},
   "outputs": [
    {
     "data": {
      "image/png": "[encoded data removed]",
      "text/latex": [
       "$\\displaystyle \\left(x + y - z\\right)^{6}$"
      ],
      "text/plain": [
       "           6\n",
       "(x + y - z) "
      ]
     },
     "execution_count": 17,
     "metadata": {},
     "output_type": "execute_result"
    }
   ],
   "source": [
    "aa = factor(aa)\n",
    "aa"
   ]
  },
  {
   "cell_type": "markdown",
   "metadata": {},
   "source": [
    "`SymPy` no cancela automáticamente las proporciones de polinomios por su mayor divisor común. La función `cancel` se utiliza para esto."
   ]
  },
  {
   "cell_type": "code",
   "execution_count": 18,
   "metadata": {},
   "outputs": [
    {
     "data": {
      "image/png": "[encoded data removed]",
      "text/latex": [
       "$\\displaystyle \\frac{x^{3} - y^{3}}{x^{2} - y^{2}}$"
      ],
      "text/plain": [
       " 3    3\n",
       "x  - y \n",
       "───────\n",
       " 2    2\n",
       "x  - y "
      ]
     },
     "execution_count": 18,
     "metadata": {},
     "output_type": "execute_result"
    }
   ],
   "source": [
    "a = (x**3-y**3)/(x**2-y**2)\n",
    "a"
   ]
  },
  {
   "cell_type": "code",
   "execution_count": 19,
   "metadata": {},
   "outputs": [
    {
     "data": {
      "image/png": "[encoded data removed]",
      "text/latex": [
       "$\\displaystyle \\frac{x^{3}}{x^{2} - y^{2}} - \\frac{y^{3}}{x^{2} - y^{2}}$"
      ],
      "text/plain": [
       "    3         3  \n",
       "   x         y   \n",
       "─────── - ───────\n",
       " 2    2    2    2\n",
       "x  - y    x  - y "
      ]
     },
     "execution_count": 19,
     "metadata": {},
     "output_type": "execute_result"
    }
   ],
   "source": [
    "a1 = expand(a)\n",
    "a1"
   ]
  },
  {
   "cell_type": "code",
   "execution_count": 20,
   "metadata": {},
   "outputs": [
    {
     "data": {
      "image/png": "[encoded data removed]",
      "text/latex": [
       "$\\displaystyle \\frac{x^{2}}{x + y} + y$"
      ],
      "text/plain": [
       "   2     \n",
       "  x      \n",
       "───── + y\n",
       "x + y    "
      ]
     },
     "execution_count": 20,
     "metadata": {},
     "output_type": "execute_result"
    }
   ],
   "source": [
    "apart(a,y)"
   ]
  },
  {
   "cell_type": "code",
   "execution_count": 21,
   "metadata": {},
   "outputs": [
    {
     "data": {
      "image/png": "[encoded data removed]",
      "text/latex": [
       "$\\displaystyle x + \\frac{y^{2}}{x + y}$"
      ],
      "text/plain": [
       "       2 \n",
       "      y  \n",
       "x + ─────\n",
       "    x + y"
      ]
     },
     "execution_count": 21,
     "metadata": {},
     "output_type": "execute_result"
    }
   ],
   "source": [
    "apart(a,x)"
   ]
  },
  {
   "cell_type": "code",
   "execution_count": 22,
   "metadata": {},
   "outputs": [
    {
     "data": {
      "image/png": "[encoded data removed]",
      "text/latex": [
       "$\\displaystyle \\frac{x^{2} + x y + y^{2}}{x + y}$"
      ],
      "text/plain": [
       " 2          2\n",
       "x  + x⋅y + y \n",
       "─────────────\n",
       "    x + y    "
      ]
     },
     "execution_count": 22,
     "metadata": {},
     "output_type": "execute_result"
    }
   ],
   "source": [
    "cancel(a)"
   ]
  },
  {
   "cell_type": "markdown",
   "metadata": {},
   "source": [
    "`SymPy` no trae automáticamente sumas de expresiones racionales al denominador común. La función `together`se utiliza para esto."
   ]
  },
  {
   "cell_type": "code",
   "execution_count": 23,
   "metadata": {},
   "outputs": [
    {
     "data": {
      "image/png": "[encoded data removed]",
      "text/latex": [
       "$\\displaystyle \\frac{x}{x + y} + \\frac{y}{x - y}$"
      ],
      "text/plain": [
       "  x       y  \n",
       "───── + ─────\n",
       "x + y   x - y"
      ]
     },
     "execution_count": 23,
     "metadata": {},
     "output_type": "execute_result"
    }
   ],
   "source": [
    "a=y/(x-y)+x/(x+y)\n",
    "a"
   ]
  },
  {
   "cell_type": "code",
   "execution_count": 24,
   "metadata": {},
   "outputs": [
    {
     "data": {
      "image/png": "[encoded data removed]",
      "text/latex": [
       "$\\displaystyle \\frac{x \\left(x - y\\right) + y \\left(x + y\\right)}{\\left(x - y\\right) \\left(x + y\\right)}$"
      ],
      "text/plain": [
       "x⋅(x - y) + y⋅(x + y)\n",
       "─────────────────────\n",
       "   (x - y)⋅(x + y)   "
      ]
     },
     "execution_count": 24,
     "metadata": {},
     "output_type": "execute_result"
    }
   ],
   "source": [
    "together(a)"
   ]
  },
  {
   "cell_type": "markdown",
   "metadata": {},
   "source": [
    "La función `simplify` intenta reescribir una expresión de la forma más sencilla . Este concepto no está bien definido (diferentes formas pueden considerarse más simples en diferentes contextos), y no existe ningún algoritmo para dicha simplificación. La función `simplify` funciona heurísticamente, y no es posible adivinar de antemano que simplificaciones intentará. Es muy conveniente en sesiones interactivas para comprobar si logrará reescribir una expresión de una forma razonablemente buena. Pero no es deseable utilizarlo en programas. Allí, uno debería usar mejor las funciones más especializadas que realizan transformaciones de expresión bien definidas."
   ]
  },
  {
   "cell_type": "code",
   "execution_count": 25,
   "metadata": {},
   "outputs": [],
   "source": [
    "a = (x**3-y**3)/(x**2-y**2)"
   ]
  },
  {
   "cell_type": "code",
   "execution_count": 50,
   "metadata": {},
   "outputs": [
    {
     "data": {
      "image/png": "[encoded data removed]",
      "text/latex": [
       "$\\displaystyle \\frac{x^{3} - y^{3}}{x^{2} - y^{2}}$"
      ],
      "text/plain": [
       " 3    3\n",
       "x  - y \n",
       "───────\n",
       " 2    2\n",
       "x  - y "
      ]
     },
     "execution_count": 50,
     "metadata": {},
     "output_type": "execute_result"
    }
   ],
   "source": [
    "simplify(a)"
   ]
  },
  {
   "cell_type": "markdown",
   "metadata": {},
   "source": [
    "Descomposición parcial de fracciones con respecto a $x$ ."
   ]
  },
  {
   "cell_type": "code",
   "execution_count": 51,
   "metadata": {},
   "outputs": [
    {
     "data": {
      "image/png": "[encoded data removed]",
      "text/latex": [
       "$\\displaystyle x + \\frac{y^{2}}{x + y}$"
      ],
      "text/plain": [
       "       2 \n",
       "      y  \n",
       "x + ─────\n",
       "    x + y"
      ]
     },
     "execution_count": 51,
     "metadata": {},
     "output_type": "execute_result"
    }
   ],
   "source": [
    "apart(a,x)"
   ]
  },
  {
   "cell_type": "markdown",
   "metadata": {},
   "source": [
    "apart hizo las siguientes operaciones:\n",
    "\n",
    "$$\\displaystyle \\frac{x^{3} - y^{3}}{x^{2} - y^{2}}= \\frac{\\left(x - y\\right) \\left(x^{2} + x y + y^{2}\\right)}{(x + y)(x-y)} $$\n",
    "$$ = \\frac{x \\left(x + y\\right) + y^{2}}{x + y} $$\n",
    "$$ =\\displaystyle x + \\frac{y^{2}}{x + y}$$"
   ]
  },
  {
   "cell_type": "markdown",
   "metadata": {},
   "source": [
    "Sustituyamos algunos valores por los símbolos $x$ y $y$."
   ]
  },
  {
   "cell_type": "code",
   "execution_count": 26,
   "metadata": {},
   "outputs": [
    {
     "data": {
      "image/png": "[encoded data removed]",
      "text/latex": [
       "$\\displaystyle \\frac{7}{3}$"
      ],
      "text/plain": [
       "7/3"
      ]
     },
     "execution_count": 26,
     "metadata": {},
     "output_type": "execute_result"
    }
   ],
   "source": [
    "a=a.subs({x:1,y:2})\n",
    "a"
   ]
  },
  {
   "cell_type": "markdown",
   "metadata": {},
   "source": [
    "¿Y cuánto es numéricamente en punto flotante?"
   ]
  },
  {
   "cell_type": "code",
   "execution_count": 27,
   "metadata": {},
   "outputs": [
    {
     "data": {
      "image/png": "[encoded data removed]",
      "text/latex": [
       "$\\displaystyle 2.33333333333333333333333333333$"
      ],
      "text/plain": [
       "2.33333333333333333333333333333"
      ]
     },
     "execution_count": 27,
     "metadata": {},
     "output_type": "execute_result"
    }
   ],
   "source": [
    "a.n(30)"
   ]
  },
  {
   "cell_type": "markdown",
   "metadata": {},
   "source": [
    "## Powsimp"
   ]
  },
  {
   "cell_type": "markdown",
   "metadata": {},
   "source": [
    "Esta  función reduce la expresion dada combinando potencias con similar base o exponente."
   ]
  },
  {
   "cell_type": "code",
   "execution_count": 54,
   "metadata": {},
   "outputs": [],
   "source": [
    "x, y = symbols('x y', positive=True)\n",
    "\n",
    "a, b = symbols('a b', real=True)"
   ]
  },
  {
   "cell_type": "code",
   "execution_count": 55,
   "metadata": {},
   "outputs": [
    {
     "data": {
      "image/png": "[encoded data removed]",
      "text/latex": [
       "$\\displaystyle x^{a + b}$"
      ],
      "text/plain": [
       " a + b\n",
       "x     "
      ]
     },
     "execution_count": 55,
     "metadata": {},
     "output_type": "execute_result"
    }
   ],
   "source": [
    "powsimp(x**a*x**b)"
   ]
  },
  {
   "cell_type": "code",
   "execution_count": 56,
   "metadata": {},
   "outputs": [
    {
     "data": {
      "image/png": "[encoded data removed]",
      "text/latex": [
       "$\\displaystyle \\left(x y\\right)^{a}$"
      ],
      "text/plain": [
       "     a\n",
       "(x⋅y) "
      ]
     },
     "execution_count": 56,
     "metadata": {},
     "output_type": "execute_result"
    }
   ],
   "source": [
    "powsimp(x**a*y**a, force=True)"
   ]
  },
  {
   "cell_type": "code",
   "execution_count": 57,
   "metadata": {},
   "outputs": [
    {
     "data": {
      "image/png": "[encoded data removed]",
      "text/latex": [
       "$\\displaystyle x^{y} x^{z} y^{z}$"
      ],
      "text/plain": [
       " y  z  z\n",
       "x ⋅x ⋅y "
      ]
     },
     "execution_count": 57,
     "metadata": {},
     "output_type": "execute_result"
    }
   ],
   "source": [
    "expr=x**y*x**z*y**z \n",
    "expr"
   ]
  },
  {
   "cell_type": "code",
   "execution_count": 58,
   "metadata": {},
   "outputs": [
    {
     "data": {
      "image/png": "[encoded data removed]",
      "text/latex": [
       "$\\displaystyle x^{y + z} y^{z}$"
      ],
      "text/plain": [
       " y + z  z\n",
       "x     ⋅y "
      ]
     },
     "execution_count": 58,
     "metadata": {},
     "output_type": "execute_result"
    }
   ],
   "source": [
    "powsimp(expr)"
   ]
  },
  {
   "cell_type": "code",
   "execution_count": 59,
   "metadata": {},
   "outputs": [
    {
     "data": {
      "image/png": "[encoded data removed]",
      "text/latex": [
       "$\\displaystyle x^{y + z} y^{z}$"
      ],
      "text/plain": [
       " y + z  z\n",
       "x     ⋅y "
      ]
     },
     "execution_count": 59,
     "metadata": {},
     "output_type": "execute_result"
    }
   ],
   "source": [
    "powsimp(expr, force=True)"
   ]
  },
  {
   "cell_type": "code",
   "execution_count": 60,
   "metadata": {},
   "outputs": [
    {
     "data": {
      "image/png": "[encoded data removed]",
      "text/latex": [
       "$\\displaystyle x^{y} \\left(x y\\right)^{z}$"
      ],
      "text/plain": [
       " y      z\n",
       "x ⋅(x⋅y) "
      ]
     },
     "execution_count": 60,
     "metadata": {},
     "output_type": "execute_result"
    }
   ],
   "source": [
    "powsimp(expr, combine='base', force=True)"
   ]
  },
  {
   "cell_type": "markdown",
   "metadata": {},
   "source": [
    "## Combsimp y binomial"
   ]
  },
  {
   "cell_type": "markdown",
   "metadata": {},
   "source": [
    "Combinatorial expressions involving factorial and binomials can be simplified by using combsimp() function. SymPy provides a factorial() function"
   ]
  },
  {
   "cell_type": "code",
   "execution_count": 61,
   "metadata": {},
   "outputs": [
    {
     "data": {
      "image/png": "[encoded data removed]",
      "text/latex": [
       "$\\displaystyle \\frac{x!}{\\left(x - 3\\right)!}$"
      ],
      "text/plain": [
       "   x!   \n",
       "────────\n",
       "(x - 3)!"
      ]
     },
     "execution_count": 61,
     "metadata": {},
     "output_type": "execute_result"
    }
   ],
   "source": [
    "expr=factorial(x)/factorial(x - 3) \n",
    "expr"
   ]
  },
  {
   "cell_type": "code",
   "execution_count": 62,
   "metadata": {},
   "outputs": [
    {
     "data": {
      "image/png": "[encoded data removed]",
      "text/latex": [
       "$\\displaystyle x \\left(x - 2\\right) \\left(x - 1\\right)$"
      ],
      "text/plain": [
       "x⋅(x - 2)⋅(x - 1)"
      ]
     },
     "execution_count": 62,
     "metadata": {},
     "output_type": "execute_result"
    }
   ],
   "source": [
    "bb=combsimp(expr)\n",
    "bb"
   ]
  },
  {
   "cell_type": "code",
   "execution_count": 63,
   "metadata": {},
   "outputs": [
    {
     "data": {
      "image/png": "[encoded data removed]",
      "text/latex": [
       "$\\displaystyle 6$"
      ],
      "text/plain": [
       "6"
      ]
     },
     "execution_count": 63,
     "metadata": {},
     "output_type": "execute_result"
    }
   ],
   "source": [
    "expr=expr.subs({x:3})\n",
    "expr"
   ]
  },
  {
   "cell_type": "markdown",
   "metadata": {},
   "source": [
    "## Implementación del coeficiente binomial. Definición"
   ]
  },
  {
   "cell_type": "markdown",
   "metadata": {},
   "source": [
    "\\begin{equation}\n",
    "\\binom{n}{k} = \\frac{n!}{k!(n-k)!}\n",
    "\\end{equation}\n"
   ]
  },
  {
   "cell_type": "markdown",
   "metadata": {},
   "source": [
    "\\begin{equation}\n",
    "\\text{or}\\binom{n}{k} = \\frac{(n)_k}{k!}   \n",
    "\\end{equation}"
   ]
  },
  {
   "cell_type": "code",
   "execution_count": 64,
   "metadata": {},
   "outputs": [],
   "source": [
    "x, y = symbols('x y', positive=True)"
   ]
  },
  {
   "cell_type": "code",
   "execution_count": 65,
   "metadata": {},
   "outputs": [
    {
     "data": {
      "image/png": "[encoded data removed]",
      "text/latex": [
       "$\\displaystyle {\\binom{x}{y}}$"
      ],
      "text/plain": [
       "⎛x⎞\n",
       "⎜ ⎟\n",
       "⎝y⎠"
      ]
     },
     "execution_count": 65,
     "metadata": {},
     "output_type": "execute_result"
    }
   ],
   "source": [
    "binomial(x,y)   "
   ]
  },
  {
   "cell_type": "code",
   "execution_count": 66,
   "metadata": {},
   "outputs": [
    {
     "data": {
      "image/png": "[encoded data removed]",
      "text/latex": [
       "$\\displaystyle {\\binom{x + 1}{y + 1}}$"
      ],
      "text/plain": [
       "⎛x + 1⎞\n",
       "⎜     ⎟\n",
       "⎝y + 1⎠"
      ]
     },
     "execution_count": 66,
     "metadata": {},
     "output_type": "execute_result"
    }
   ],
   "source": [
    "binomial(x+1, y+1)"
   ]
  },
  {
   "cell_type": "code",
   "execution_count": 67,
   "metadata": {},
   "outputs": [
    {
     "data": {
      "image/png": "[encoded data removed]",
      "text/latex": [
       "$\\displaystyle \\frac{x + 1}{y + 1}$"
      ],
      "text/plain": [
       "x + 1\n",
       "─────\n",
       "y + 1"
      ]
     },
     "execution_count": 67,
     "metadata": {},
     "output_type": "execute_result"
    }
   ],
   "source": [
    "combsimp(binomial(x+1, y+1)/binomial(x, y))"
   ]
  },
  {
   "cell_type": "code",
   "execution_count": 68,
   "metadata": {},
   "outputs": [
    {
     "data": {
      "image/png": "[encoded data removed]",
      "text/latex": [
       "$\\displaystyle 8$"
      ],
      "text/plain": [
       "8"
      ]
     },
     "execution_count": 68,
     "metadata": {},
     "output_type": "execute_result"
    }
   ],
   "source": [
    "binomial(8,1)"
   ]
  },
  {
   "cell_type": "markdown",
   "metadata": {},
   "source": [
    "### Tríangulo de Pascal "
   ]
  },
  {
   "cell_type": "code",
   "execution_count": 69,
   "metadata": {},
   "outputs": [
    {
     "name": "stdout",
     "output_type": "stream",
     "text": [
      "N = 0 ,  [1]\n",
      "N = 1 ,  [1, 1]\n",
      "N = 2 ,  [1, 2, 1]\n",
      "N = 3 ,  [1, 3, 3, 1]\n",
      "N = 4 ,  [1, 4, 6, 4, 1]\n",
      "N = 5 ,  [1, 5, 10, 10, 5, 1]\n",
      "N = 6 ,  [1, 6, 15, 20, 15, 6, 1]\n",
      "N = 7 ,  [1, 7, 21, 35, 35, 21, 7, 1]\n"
     ]
    }
   ],
   "source": [
    "for N in range(8):\n",
    "    print(\"N =\", N,\", \", [binomial(N, i) for i in range(N + 1)])\n",
    "    \n",
    "# N = 0, i= 0\n",
    "# N = 1, i= 0, 1\n",
    "# N = 2, i= 0, 1, 2 \n",
    "# N = 3, i= 0, 1, 2, 3\n",
    "# N = 4, i= 0, 1, 2, 3, 4\n",
    "# N = 5, i= 0, 1, 2, 3, 4, 5\n",
    "# N = 6, i= 0, 1, 2, 3, 4, 5, 6\n",
    "# N = 7, i= 0, 1, 2, 3, 4, 5, 6, 7"
   ]
  },
  {
   "cell_type": "markdown",
   "metadata": {},
   "source": [
    "http://prepa8.unam.mx/academia/colegios/matematicas/paginacolmate/applets/tsm/Applets_Geogebra/pascal.html"
   ]
  },
  {
   "cell_type": "code",
   "execution_count": 70,
   "metadata": {},
   "outputs": [
    {
     "data": {
      "image/png": "[encoded data removed]",
      "text/latex": [
       "$\\displaystyle \\left[ 1, \\  -2, \\  3\\right]$"
      ],
      "text/plain": [
       "[1, -2, 3]"
      ]
     },
     "execution_count": 70,
     "metadata": {},
     "output_type": "execute_result"
    }
   ],
   "source": [
    "N = -2\n",
    "\n",
    "[binomial(N, i) for i in range(1 - N)] ## i = 0, 1, 2 "
   ]
  },
  {
   "cell_type": "code",
   "execution_count": 72,
   "metadata": {},
   "outputs": [
    {
     "data": {
      "image/png": "[encoded data removed]",
      "text/latex": [
       "$\\displaystyle -2$"
      ],
      "text/plain": [
       "-2"
      ]
     },
     "execution_count": 72,
     "metadata": {},
     "output_type": "execute_result"
    }
   ],
   "source": [
    " binomial(-2,1)"
   ]
  },
  {
   "cell_type": "markdown",
   "metadata": {},
   "source": [
    "# Funciones elementales\n",
    "\n",
    "`SymPy` Automáticamente aplica simplificaciones de funciones elementales que son correctas en todas partes."
   ]
  },
  {
   "cell_type": "code",
   "execution_count": 73,
   "metadata": {},
   "outputs": [
    {
     "data": {
      "image/png": "[encoded data removed]",
      "text/latex": [
       "$\\displaystyle - \\sin{\\left(x \\right)}$"
      ],
      "text/plain": [
       "-sin(x)"
      ]
     },
     "execution_count": 73,
     "metadata": {},
     "output_type": "execute_result"
    }
   ],
   "source": [
    "sin(-x)"
   ]
  },
  {
   "cell_type": "code",
   "execution_count": 74,
   "metadata": {},
   "outputs": [
    {
     "data": {
      "image/png": "[encoded data removed]",
      "text/latex": [
       "$\\displaystyle \\left( \\frac{\\sqrt{2}}{2}, \\  - \\frac{\\sqrt{3}}{3}\\right)$"
      ],
      "text/plain": [
       "⎛√2  -√3 ⎞\n",
       "⎜──, ────⎟\n",
       "⎝2    3  ⎠"
      ]
     },
     "execution_count": 74,
     "metadata": {},
     "output_type": "execute_result"
    }
   ],
   "source": [
    "cos(pi/4),tan(5*pi/6)"
   ]
  },
  {
   "cell_type": "markdown",
   "metadata": {},
   "source": [
    "`SymPy` Puede trabajar con números de punto flotante que tengan una precisión arbitrariamente alta. Aquí está $\\pi$ por ejemplo por ejemplo con 150 dígitos significativos."
   ]
  },
  {
   "cell_type": "code",
   "execution_count": 75,
   "metadata": {},
   "outputs": [
    {
     "data": {
      "image/png": "[encoded data removed]",
      "text/latex": [
       "$\\displaystyle 3.14159265358979323846264338327950288419716939937510582097494459230781640628620899862803482534211706798214808651328230664709384460955058223172535940813$"
      ],
      "text/plain": [
       "3.1415926535897932384626433832795028841971693993751058209749445923078164062862\n",
       "0899862803482534211706798214808651328230664709384460955058223172535940813"
      ]
     },
     "execution_count": 75,
     "metadata": {},
     "output_type": "execute_result"
    }
   ],
   "source": [
    "pi.n(150)"
   ]
  },
  {
   "cell_type": "markdown",
   "metadata": {},
   "source": [
    "`E` Es la base de los logaritmos naturales."
   ]
  },
  {
   "cell_type": "code",
   "execution_count": 76,
   "metadata": {},
   "outputs": [
    {
     "data": {
      "image/png": "[encoded data removed]",
      "text/latex": [
       "$\\displaystyle \\left( 0, \\  1\\right)$"
      ],
      "text/plain": [
       "(0, 1)"
      ]
     },
     "execution_count": 76,
     "metadata": {},
     "output_type": "execute_result"
    }
   ],
   "source": [
    "log(1), log(E)"
   ]
  },
  {
   "cell_type": "markdown",
   "metadata": {},
   "source": [
    "## Logcombine"
   ]
  },
  {
   "cell_type": "markdown",
   "metadata": {},
   "source": [
    "#### Esta función toma  logaritmos y los combina usando las reglas siguientes "
   ]
  },
  {
   "cell_type": "markdown",
   "metadata": {},
   "source": [
    "#### $ log(x) + log(y) == log(x*y) $ if both are positive"
   ]
  },
  {
   "cell_type": "markdown",
   "metadata": {},
   "source": [
    "#### $a*log(x) == log(x**a) $ if x is positive and a is real"
   ]
  },
  {
   "cell_type": "code",
   "execution_count": 77,
   "metadata": {},
   "outputs": [],
   "source": [
    "x, y = symbols('x y', positive=True)\n",
    "\n",
    "a, b = symbols('a b', real=True)"
   ]
  },
  {
   "cell_type": "code",
   "execution_count": 78,
   "metadata": {},
   "outputs": [],
   "source": [
    "x,a=symbols('x a')"
   ]
  },
  {
   "cell_type": "code",
   "execution_count": 80,
   "metadata": {},
   "outputs": [
    {
     "data": {
      "image/png": "[encoded data removed]",
      "text/latex": [
       "$\\displaystyle a \\log{\\left(x \\right)} + \\log{\\left(y \\right)} - \\log{\\left(z \\right)}$"
      ],
      "text/plain": [
       "a⋅log(x) + log(y) - log(z)"
      ]
     },
     "execution_count": 80,
     "metadata": {},
     "output_type": "execute_result"
    }
   ],
   "source": [
    "logcombine(a*log(x) + log(y) - log(z))"
   ]
  },
  {
   "cell_type": "code",
   "execution_count": 81,
   "metadata": {},
   "outputs": [
    {
     "data": {
      "image/png": "[encoded data removed]",
      "text/latex": [
       "$\\displaystyle \\log{\\left(\\frac{x^{a} y}{z} \\right)}$"
      ],
      "text/plain": [
       "   ⎛ a  ⎞\n",
       "   ⎜x ⋅y⎟\n",
       "log⎜────⎟\n",
       "   ⎝ z  ⎠"
      ]
     },
     "execution_count": 81,
     "metadata": {},
     "output_type": "execute_result"
    }
   ],
   "source": [
    "logcombine(a*log(x) + log(y) - log(z), force=True)"
   ]
  },
  {
   "cell_type": "markdown",
   "metadata": {},
   "source": [
    "## Logaritmo en base 10"
   ]
  },
  {
   "cell_type": "code",
   "execution_count": 82,
   "metadata": {},
   "outputs": [
    {
     "name": "stdout",
     "output_type": "stream",
     "text": [
      "3\n",
      "log(1000)/log(10)\n"
     ]
    }
   ],
   "source": [
    "import sympy as sp\n",
    "x = sp.Symbol('x')\n",
    "f = sp.log(x, 10, evaluate=False)\n",
    "print (f.subs(x, 1000))\n",
    "g = sp.simplify(f)\n",
    "print (g.subs(x,1000))"
   ]
  },
  {
   "cell_type": "code",
   "execution_count": 71,
   "metadata": {},
   "outputs": [],
   "source": [
    "x = sp.Symbol('x')"
   ]
  },
  {
   "cell_type": "code",
   "execution_count": 83,
   "metadata": {},
   "outputs": [
    {
     "name": "stdout",
     "output_type": "stream",
     "text": [
      "3\n"
     ]
    }
   ],
   "source": [
    "f = sp.log(x,10, evaluate=False)\n",
    "print (f.subs(x, 1000))"
   ]
  },
  {
   "cell_type": "code",
   "execution_count": 84,
   "metadata": {},
   "outputs": [
    {
     "name": "stdout",
     "output_type": "stream",
     "text": [
      "8\n"
     ]
    }
   ],
   "source": [
    "g = sp.log(x**4,10, evaluate=False)\n",
    "print (g.subs(x, 100))"
   ]
  },
  {
   "cell_type": "markdown",
   "metadata": {},
   "source": [
    "### Evaluando funciones"
   ]
  },
  {
   "cell_type": "code",
   "execution_count": 87,
   "metadata": {},
   "outputs": [],
   "source": [
    "x, y = symbols('x y', positive=True)"
   ]
  },
  {
   "cell_type": "code",
   "execution_count": 88,
   "metadata": {},
   "outputs": [],
   "source": [
    "#x, y = symbols('x y')"
   ]
  },
  {
   "cell_type": "code",
   "execution_count": 89,
   "metadata": {},
   "outputs": [
    {
     "data": {
      "image/png": "[encoded data removed]",
      "text/latex": [
       "$\\displaystyle \\left( x, \\  x\\right)$"
      ],
      "text/plain": [
       "(x, x)"
      ]
     },
     "execution_count": 89,
     "metadata": {},
     "output_type": "execute_result"
    }
   ],
   "source": [
    "exp(log(x)),log(exp(x))"
   ]
  },
  {
   "cell_type": "code",
   "execution_count": 76,
   "metadata": {},
   "outputs": [
    {
     "data": {
      "image/png": "[encoded data removed]",
      "text/latex": [
       "$\\displaystyle 0$"
      ],
      "text/plain": [
       "0"
      ]
     },
     "execution_count": 76,
     "metadata": {},
     "output_type": "execute_result"
    }
   ],
   "source": [
    "sqrt(0)"
   ]
  },
  {
   "cell_type": "code",
   "execution_count": 77,
   "metadata": {},
   "outputs": [
    {
     "data": {
      "image/png": "[encoded data removed]",
      "text/latex": [
       "$\\displaystyle \\left( x^{2}, \\  x^{2}\\right)$"
      ],
      "text/plain": [
       "⎛ 2   2⎞\n",
       "⎝x , x ⎠"
      ]
     },
     "execution_count": 77,
     "metadata": {},
     "output_type": "execute_result"
    }
   ],
   "source": [
    "sqrt(x)**4,sqrt(x**4)"
   ]
  },
  {
   "cell_type": "markdown",
   "metadata": {},
   "source": [
    "Por qué no $x^2$? Tratar $x = i$.\n",
    "\n",
    "Los símbolos pueden tener ciertas propiedades. Por ejemplo, pueden ser positivos. Entonces `SymPy` puede simplificar mejor las raíces cuadradas."
   ]
  },
  {
   "cell_type": "code",
   "execution_count": 78,
   "metadata": {},
   "outputs": [
    {
     "data": {
      "image/png": "[encoded data removed]",
      "text/latex": [
       "$\\displaystyle \\left( -1, \\  1\\right)$"
      ],
      "text/plain": [
       "(-1, 1)"
      ]
     },
     "execution_count": 78,
     "metadata": {},
     "output_type": "execute_result"
    }
   ],
   "source": [
    "(sqrt(I))**4,sqrt(I**4)"
   ]
  },
  {
   "cell_type": "code",
   "execution_count": 90,
   "metadata": {},
   "outputs": [
    {
     "data": {
      "image/png": "[encoded data removed]",
      "text/latex": [
       "$\\displaystyle p$"
      ],
      "text/plain": [
       "p"
      ]
     },
     "execution_count": 90,
     "metadata": {},
     "output_type": "execute_result"
    }
   ],
   "source": [
    "p,q=symbols('p q',positive=True)\n",
    "sqrt(p**2)"
   ]
  },
  {
   "cell_type": "code",
   "execution_count": 91,
   "metadata": {},
   "outputs": [
    {
     "data": {
      "image/png": "[encoded data removed]",
      "text/latex": [
       "$\\displaystyle \\left( 2 \\sqrt{3} x \\sqrt{y}, \\  2 \\sqrt{3} p \\sqrt{y}\\right)$"
      ],
      "text/plain": [
       "(2⋅√3⋅x⋅√y, 2⋅√3⋅p⋅√y)"
      ]
     },
     "execution_count": 91,
     "metadata": {},
     "output_type": "execute_result"
    }
   ],
   "source": [
    "sqrt(12*x**2*y),sqrt(12*p**2*y)"
   ]
  },
  {
   "cell_type": "markdown",
   "metadata": {},
   "source": [
    "Sea $n$ un símbolo entero e $I$ la unidad imaginaria."
   ]
  },
  {
   "cell_type": "code",
   "execution_count": 92,
   "metadata": {},
   "outputs": [
    {
     "data": {
      "image/png": "[encoded data removed]",
      "text/latex": [
       "$\\displaystyle 1$"
      ],
      "text/plain": [
       "1"
      ]
     },
     "execution_count": 92,
     "metadata": {},
     "output_type": "execute_result"
    }
   ],
   "source": [
    "n=Symbol('n',integer=True)\n",
    "exp(2*pi*I*n)"
   ]
  },
  {
   "cell_type": "markdown",
   "metadata": {},
   "source": [
    "####  El método `rewrite` intenta reescribir una expresión en términos de una función dada."
   ]
  },
  {
   "cell_type": "markdown",
   "metadata": {},
   "source": [
    "una forma común de tratar con funciones especiales es escribirlas en términos una de otra. Esto funciona para cualquier función de SymPy."
   ]
  },
  {
   "cell_type": "code",
   "execution_count": 93,
   "metadata": {},
   "outputs": [
    {
     "data": {
      "image/png": "[encoded data removed]",
      "text/latex": [
       "$\\displaystyle \\frac{\\cos{\\left(x - \\frac{\\pi}{2} \\right)}}{\\cos{\\left(x \\right)}}$"
      ],
      "text/plain": [
       "   ⎛    π⎞\n",
       "cos⎜x - ─⎟\n",
       "   ⎝    2⎠\n",
       "──────────\n",
       "  cos(x)  "
      ]
     },
     "execution_count": 93,
     "metadata": {},
     "output_type": "execute_result"
    }
   ],
   "source": [
    "tan(x).rewrite(cos)"
   ]
  },
  {
   "cell_type": "code",
   "execution_count": 83,
   "metadata": {},
   "outputs": [
    {
     "data": {
      "image/png": "[encoded data removed]",
      "text/latex": [
       "$\\displaystyle \\left( \\frac{e^{i x}}{2} + \\frac{e^{- i x}}{2}, \\  i \\sin{\\left(x \\right)} + \\cos{\\left(x \\right)}\\right)$"
      ],
      "text/plain": [
       "⎛ ⅈ⋅x    -ⅈ⋅x                   ⎞\n",
       "⎜ℯ      ℯ                       ⎟\n",
       "⎜──── + ─────, ⅈ⋅sin(x) + cos(x)⎟\n",
       "⎝ 2       2                     ⎠"
      ]
     },
     "execution_count": 83,
     "metadata": {},
     "output_type": "execute_result"
    }
   ],
   "source": [
    "cos(x).rewrite(exp),exp(I*x).rewrite(cos)"
   ]
  },
  {
   "cell_type": "code",
   "execution_count": 94,
   "metadata": {},
   "outputs": [
    {
     "data": {
      "image/png": "[encoded data removed]",
      "text/latex": [
       "$\\displaystyle - i \\log{\\left(i x + \\sqrt{1 - x^{2}} \\right)}$"
      ],
      "text/plain": [
       "      ⎛         ________⎞\n",
       "      ⎜        ╱      2 ⎟\n",
       "-ⅈ⋅log⎝ⅈ⋅x + ╲╱  1 - x  ⎠"
      ]
     },
     "execution_count": 94,
     "metadata": {},
     "output_type": "execute_result"
    }
   ],
   "source": [
    "asin(x).rewrite(log)"
   ]
  },
  {
   "cell_type": "markdown",
   "metadata": {},
   "source": [
    "#### La función `trigsimp` intenta reescribir una expresión trigonométrica en la forma más simple. En los programas es mejor utilizar funciones más especializadas."
   ]
  },
  {
   "cell_type": "code",
   "execution_count": 95,
   "metadata": {},
   "outputs": [
    {
     "data": {
      "image/png": "[encoded data removed]",
      "text/latex": [
       "$\\displaystyle \\cos^{2}{\\left(x \\right)} + 2$"
      ],
      "text/plain": [
       "   2       \n",
       "cos (x) + 2"
      ]
     },
     "execution_count": 95,
     "metadata": {},
     "output_type": "execute_result"
    }
   ],
   "source": [
    "trigsimp(2*sin(x)**2+3*cos(x)**2)"
   ]
  },
  {
   "cell_type": "markdown",
   "metadata": {},
   "source": [
    "#### La función `expand_trig` expande senos y cosenos de sumas y múltiples ángulos."
   ]
  },
  {
   "cell_type": "code",
   "execution_count": 96,
   "metadata": {},
   "outputs": [
    {
     "data": {
      "image/png": "[encoded data removed]",
      "text/latex": [
       "$\\displaystyle \\left( \\sin{\\left(x \\right)} \\cos{\\left(y \\right)} - \\sin{\\left(y \\right)} \\cos{\\left(x \\right)}, \\  2 \\sin{\\left(x \\right)} \\cos{\\left(x \\right)}\\right)$"
      ],
      "text/plain": [
       "(sin(x)⋅cos(y) - sin(y)⋅cos(x), 2⋅sin(x)⋅cos(x))"
      ]
     },
     "execution_count": 96,
     "metadata": {},
     "output_type": "execute_result"
    }
   ],
   "source": [
    "expand_trig(sin(x-y)),expand_trig(sin(2*x))"
   ]
  },
  {
   "cell_type": "markdown",
   "metadata": {},
   "source": [
    " La transformación inversa, la reescritura de productos y los poderes de los senos y cosenos en expresiones lineales en estas funciones, se necesita con mayor frecuencia. Supongamos que trabajamos con una serie de Fourier truncada."
   ]
  },
  {
   "cell_type": "code",
   "execution_count": 97,
   "metadata": {},
   "outputs": [
    {
     "data": {
      "image/png": "[encoded data removed]",
      "text/latex": [
       "$\\displaystyle a_{1} \\cos{\\left(x \\right)} + a_{2} \\cos{\\left(2 x \\right)} + b_{1} \\sin{\\left(x \\right)} + b_{2} \\sin{\\left(2 x \\right)}$"
      ],
      "text/plain": [
       "a₁⋅cos(x) + a₂⋅cos(2⋅x) + b₁⋅sin(x) + b₂⋅sin(2⋅x)"
      ]
     },
     "execution_count": 97,
     "metadata": {},
     "output_type": "execute_result"
    }
   ],
   "source": [
    "a1,a2,b1,b2=symbols('a1 a2 b1 b2')\n",
    "a=a1*cos(x)+a2*cos(2*x)+b1*sin(x)+b2*sin(2*x)\n",
    "a"
   ]
  },
  {
   "cell_type": "markdown",
   "metadata": {},
   "source": [
    "### Queremos cuadrar y obtener una serie de Fourier truncada de nuevo."
   ]
  },
  {
   "cell_type": "code",
   "execution_count": 98,
   "metadata": {},
   "outputs": [
    {
     "data": {
      "image/png": "[encoded data removed]",
      "text/latex": [
       "$\\displaystyle \\frac{a_{1}^{2} \\cos{\\left(2 x \\right)}}{2} + \\frac{a_{1}^{2}}{2} + a_{1} a_{2} \\cos{\\left(x \\right)} + a_{1} a_{2} \\cos{\\left(3 x \\right)} + a_{1} b_{1} \\sin{\\left(2 x \\right)} + a_{1} b_{2} \\sin{\\left(x \\right)} + a_{1} b_{2} \\sin{\\left(3 x \\right)} + \\frac{a_{2}^{2} \\cos{\\left(4 x \\right)}}{2} + \\frac{a_{2}^{2}}{2} - a_{2} b_{1} \\sin{\\left(x \\right)} + a_{2} b_{1} \\sin{\\left(3 x \\right)} + a_{2} b_{2} \\sin{\\left(4 x \\right)} - \\frac{b_{1}^{2} \\cos{\\left(2 x \\right)}}{2} + \\frac{b_{1}^{2}}{2} + b_{1} b_{2} \\cos{\\left(x \\right)} - b_{1} b_{2} \\cos{\\left(3 x \\right)} - \\frac{b_{2}^{2} \\cos{\\left(4 x \\right)}}{2} + \\frac{b_{2}^{2}}{2}$"
      ],
      "text/plain": [
       "  2              2                                                            \n",
       "a₁ ⋅cos(2⋅x)   a₁                                                             \n",
       "──────────── + ─── + a₁⋅a₂⋅cos(x) + a₁⋅a₂⋅cos(3⋅x) + a₁⋅b₁⋅sin(2⋅x) + a₁⋅b₂⋅si\n",
       "     2          2                                                             \n",
       "\n",
       "                          2              2                                    \n",
       "                        a₂ ⋅cos(4⋅x)   a₂                                     \n",
       "n(x) + a₁⋅b₂⋅sin(3⋅x) + ──────────── + ─── - a₂⋅b₁⋅sin(x) + a₂⋅b₁⋅sin(3⋅x) + a\n",
       "                             2          2                                     \n",
       "\n",
       "                  2              2                                     2      \n",
       "                b₁ ⋅cos(2⋅x)   b₁                                    b₂ ⋅cos(4\n",
       "₂⋅b₂⋅sin(4⋅x) - ──────────── + ─── + b₁⋅b₂⋅cos(x) - b₁⋅b₂⋅cos(3⋅x) - ─────────\n",
       "                     2          2                                         2   \n",
       "\n",
       "        2\n",
       "⋅x)   b₂ \n",
       "─── + ───\n",
       "       2 "
      ]
     },
     "execution_count": 98,
     "metadata": {},
     "output_type": "execute_result"
    }
   ],
   "source": [
    "a=(a**2).rewrite(exp).expand().rewrite(cos).expand()\n",
    "a"
   ]
  },
  {
   "cell_type": "code",
   "execution_count": 99,
   "metadata": {},
   "outputs": [
    {
     "data": {
      "image/png": "[encoded data removed]",
      "text/latex": [
       "$\\displaystyle \\frac{a_{1}^{2}}{2} + a_{1} b_{1} \\sin{\\left(2 x \\right)} + \\frac{a_{2}^{2} \\cos{\\left(4 x \\right)}}{2} + \\frac{a_{2}^{2}}{2} + a_{2} b_{2} \\sin{\\left(4 x \\right)} + \\frac{b_{1}^{2}}{2} - \\frac{b_{2}^{2} \\cos{\\left(4 x \\right)}}{2} + \\frac{b_{2}^{2}}{2} + \\left(\\frac{a_{1}^{2}}{2} - \\frac{b_{1}^{2}}{2}\\right) \\cos{\\left(2 x \\right)} + \\left(a_{1} a_{2} - b_{1} b_{2}\\right) \\cos{\\left(3 x \\right)} + \\left(a_{1} a_{2} + b_{1} b_{2}\\right) \\cos{\\left(x \\right)} + \\left(a_{1} b_{2} - a_{2} b_{1}\\right) \\sin{\\left(x \\right)} + \\left(a_{1} b_{2} + a_{2} b_{1}\\right) \\sin{\\left(3 x \\right)}$"
      ],
      "text/plain": [
       "  2                      2              2                      2     2        \n",
       "a₁                     a₂ ⋅cos(4⋅x)   a₂                     b₁    b₂ ⋅cos(4⋅x\n",
       "─── + a₁⋅b₁⋅sin(2⋅x) + ──────────── + ─── + a₂⋅b₂⋅sin(4⋅x) + ─── - ───────────\n",
       " 2                          2          2                      2         2     \n",
       "\n",
       "      2   ⎛  2     2⎞                                                         \n",
       ")   b₂    ⎜a₁    b₁ ⎟                                                         \n",
       "─ + ─── + ⎜─── - ───⎟⋅cos(2⋅x) + (a₁⋅a₂ - b₁⋅b₂)⋅cos(3⋅x) + (a₁⋅a₂ + b₁⋅b₂)⋅co\n",
       "     2    ⎝ 2     2 ⎠                                                         \n",
       "\n",
       "                                                        \n",
       "                                                        \n",
       "s(x) + (a₁⋅b₂ - a₂⋅b₁)⋅sin(x) + (a₁⋅b₂ + a₂⋅b₁)⋅sin(3⋅x)\n",
       "                                                        "
      ]
     },
     "execution_count": 99,
     "metadata": {},
     "output_type": "execute_result"
    }
   ],
   "source": [
    "a.collect([cos(x),cos(2*x),cos(3*x),sin(x),sin(2*x),sin(3*x)])"
   ]
  },
  {
   "cell_type": "markdown",
   "metadata": {},
   "source": [
    "#### La función `expand_log` transforma logaritmos de productos y potencias (de cantidades positivas) en sumas de logaritmos; logcombine  realiza la transformación inversa."
   ]
  },
  {
   "cell_type": "code",
   "execution_count": 100,
   "metadata": {},
   "outputs": [],
   "source": [
    "p,q=symbols('p q',positive=True)"
   ]
  },
  {
   "cell_type": "code",
   "execution_count": 101,
   "metadata": {},
   "outputs": [
    {
     "data": {
      "image/png": "[encoded data removed]",
      "text/latex": [
       "$\\displaystyle \\log{\\left(p \\right)} + 2 \\log{\\left(q \\right)}$"
      ],
      "text/plain": [
       "log(p) + 2⋅log(q)"
      ]
     },
     "execution_count": 101,
     "metadata": {},
     "output_type": "execute_result"
    }
   ],
   "source": [
    "a=expand_log(log(p*q**2))\n",
    "a"
   ]
  },
  {
   "cell_type": "code",
   "execution_count": 102,
   "metadata": {},
   "outputs": [
    {
     "data": {
      "image/png": "[encoded data removed]",
      "text/latex": [
       "$\\displaystyle \\log{\\left(p q^{2} \\right)}$"
      ],
      "text/plain": [
       "   ⎛   2⎞\n",
       "log⎝p⋅q ⎠"
      ]
     },
     "execution_count": 102,
     "metadata": {},
     "output_type": "execute_result"
    }
   ],
   "source": [
    "logcombine(a)"
   ]
  },
  {
   "cell_type": "markdown",
   "metadata": {},
   "source": [
    "#### La función `expand_power_exp`reescribe potencias cuyos exponentes son sumas a través de productos de potencias."
   ]
  },
  {
   "cell_type": "code",
   "execution_count": 93,
   "metadata": {},
   "outputs": [
    {
     "data": {
      "image/png": "[encoded data removed]",
      "text/latex": [
       "$\\displaystyle x^{p} x^{q}$"
      ],
      "text/plain": [
       " p  q\n",
       "x ⋅x "
      ]
     },
     "execution_count": 93,
     "metadata": {},
     "output_type": "execute_result"
    }
   ],
   "source": [
    "expand_power_exp(x**(p+q))"
   ]
  },
  {
   "cell_type": "markdown",
   "metadata": {},
   "source": [
    "#### La función `expand_power_base` reescribe potencias cuyas bases son productos a través de productos de potencias."
   ]
  },
  {
   "cell_type": "code",
   "execution_count": 94,
   "metadata": {},
   "outputs": [
    {
     "data": {
      "image/png": "[encoded data removed]",
      "text/latex": [
       "$\\displaystyle x^{n} y^{n}$"
      ],
      "text/plain": [
       " n  n\n",
       "x ⋅y "
      ]
     },
     "execution_count": 94,
     "metadata": {},
     "output_type": "execute_result"
    }
   ],
   "source": [
    "expand_power_base((x*y)**n)"
   ]
  },
  {
   "cell_type": "markdown",
   "metadata": {},
   "source": [
    "#### La función `powsimp` realiza las transformaciones inversas, del producto de potencias pasa a exponente suma  o a potencia del producto de las bases"
   ]
  },
  {
   "cell_type": "code",
   "execution_count": 95,
   "metadata": {},
   "outputs": [
    {
     "data": {
      "image/png": "[encoded data removed]",
      "text/latex": [
       "$\\displaystyle \\left( e^{x + 2 y}, \\  \\left(x y\\right)^{n}\\right)$"
      ],
      "text/plain": [
       "⎛ x + 2⋅y       n⎞\n",
       "⎝ℯ       , (x⋅y) ⎠"
      ]
     },
     "execution_count": 95,
     "metadata": {},
     "output_type": "execute_result"
    }
   ],
   "source": [
    "powsimp(exp(x)*exp(2*y)),powsimp(x**n*y**n)"
   ]
  },
  {
   "cell_type": "markdown",
   "metadata": {},
   "source": [
    "Se pueden introducir nuevas funciones simbólicas. Pueden tener un número arbitrario de argumentos."
   ]
  },
  {
   "cell_type": "code",
   "execution_count": 103,
   "metadata": {},
   "outputs": [
    {
     "data": {
      "image/png": "[encoded data removed]",
      "text/latex": [
       "$\\displaystyle f{\\left(x \\right)} + f{\\left(x,y \\right)}$"
      ],
      "text/plain": [
       "f(x) + f(x, y)"
      ]
     },
     "execution_count": 103,
     "metadata": {},
     "output_type": "execute_result"
    }
   ],
   "source": [
    "f=Function('f')\n",
    "f(x)+f(x,y)"
   ]
  },
  {
   "cell_type": "markdown",
   "metadata": {},
   "source": [
    "### Estructura de expresión\n",
    "Las expresiones internas son árboles. La función `srepr` devuelve una cadena que representa este árbol."
   ]
  },
  {
   "cell_type": "code",
   "execution_count": 104,
   "metadata": {},
   "outputs": [
    {
     "data": {
      "text/plain": [
       "\"Add(Symbol('x', positive=True), Integer(1))\""
      ]
     },
     "execution_count": 104,
     "metadata": {},
     "output_type": "execute_result"
    }
   ],
   "source": [
    "srepr(x+1)"
   ]
  },
  {
   "cell_type": "code",
   "execution_count": 105,
   "metadata": {},
   "outputs": [
    {
     "data": {
      "text/plain": [
       "\"Add(Symbol('x', positive=True), Integer(-1))\""
      ]
     },
     "execution_count": 105,
     "metadata": {},
     "output_type": "execute_result"
    }
   ],
   "source": [
    "srepr(x-1)"
   ]
  },
  {
   "cell_type": "code",
   "execution_count": 106,
   "metadata": {},
   "outputs": [
    {
     "data": {
      "text/plain": [
       "\"Add(Symbol('x', positive=True), Mul(Integer(-1), Symbol('y', positive=True)))\""
      ]
     },
     "execution_count": 106,
     "metadata": {},
     "output_type": "execute_result"
    }
   ],
   "source": [
    "srepr(x-y)"
   ]
  },
  {
   "cell_type": "code",
   "execution_count": 107,
   "metadata": {},
   "outputs": [
    {
     "data": {
      "text/plain": [
       "\"Mul(Rational(2, 3), Symbol('x', positive=True), Symbol('y', positive=True))\""
      ]
     },
     "execution_count": 107,
     "metadata": {},
     "output_type": "execute_result"
    }
   ],
   "source": [
    "srepr(2*x*y/3)"
   ]
  },
  {
   "cell_type": "code",
   "execution_count": 108,
   "metadata": {},
   "outputs": [
    {
     "data": {
      "text/plain": [
       "\"Mul(Symbol('x', positive=True), Pow(Symbol('y', positive=True), Integer(-1)))\""
      ]
     },
     "execution_count": 108,
     "metadata": {},
     "output_type": "execute_result"
    }
   ],
   "source": [
    "srepr(x/y)"
   ]
  },
  {
   "cell_type": "markdown",
   "metadata": {},
   "source": [
    "Uno puede utilizar las funciones de `Add`, `Mul`, `Pow`, etc. en lugar de las operaciones binarias `+`,  `*`, `**`, etc."
   ]
  },
  {
   "cell_type": "code",
   "execution_count": 109,
   "metadata": {},
   "outputs": [
    {
     "data": {
      "image/png": "[encoded data removed]",
      "text/latex": [
       "$\\displaystyle \\frac{x}{y}$"
      ],
      "text/plain": [
       "x\n",
       "─\n",
       "y"
      ]
     },
     "execution_count": 109,
     "metadata": {},
     "output_type": "execute_result"
    }
   ],
   "source": [
    "Mul(x,Pow(y,-1))"
   ]
  },
  {
   "cell_type": "code",
   "execution_count": 110,
   "metadata": {},
   "outputs": [
    {
     "data": {
      "text/plain": [
       "\"Function('f')(Symbol('x', positive=True), Symbol('y', positive=True))\""
      ]
     },
     "execution_count": 110,
     "metadata": {},
     "output_type": "execute_result"
    }
   ],
   "source": [
    "srepr(f(x,y))"
   ]
  },
  {
   "cell_type": "code",
   "execution_count": null,
   "metadata": {},
   "outputs": [],
   "source": []
  },
  {
   "cell_type": "markdown",
   "metadata": {},
   "source": [
    "#### El atributo `func` es la función de nivel superior de una expresión, y `args` es la lista de sus monumentos."
   ]
  },
  {
   "cell_type": "code",
   "execution_count": 111,
   "metadata": {},
   "outputs": [
    {
     "data": {
      "text/plain": [
       "sympy.core.mul.Mul"
      ]
     },
     "execution_count": 111,
     "metadata": {},
     "output_type": "execute_result"
    }
   ],
   "source": [
    "a = 2*x*y**2\n",
    "a.func"
   ]
  },
  {
   "cell_type": "code",
   "execution_count": 112,
   "metadata": {},
   "outputs": [
    {
     "data": {
      "text/plain": [
       "\"Mul(Integer(2), Symbol('x', positive=True), Pow(Symbol('y', positive=True), Integer(2)))\""
      ]
     },
     "execution_count": 112,
     "metadata": {},
     "output_type": "execute_result"
    }
   ],
   "source": [
    "srepr(a)"
   ]
  },
  {
   "cell_type": "code",
   "execution_count": 106,
   "metadata": {},
   "outputs": [
    {
     "data": {
      "image/png": "[encoded data removed]",
      "text/latex": [
       "$\\displaystyle \\left( 2, \\  x, \\  y^{2}\\right)$"
      ],
      "text/plain": [
       "⎛       2⎞\n",
       "⎝2, x, y ⎠"
      ]
     },
     "execution_count": 106,
     "metadata": {},
     "output_type": "execute_result"
    }
   ],
   "source": [
    "a.args"
   ]
  },
  {
   "cell_type": "code",
   "execution_count": 113,
   "metadata": {},
   "outputs": [
    {
     "name": "stdout",
     "output_type": "stream",
     "text": [
      "2\n",
      "x\n",
      "y**2\n"
     ]
    }
   ],
   "source": [
    "for i in a.args:\n",
    "    print(i)"
   ]
  },
  {
   "cell_type": "markdown",
   "metadata": {},
   "source": [
    "#### La función `subs` sustituye una expresión por un símbolo."
   ]
  },
  {
   "cell_type": "code",
   "execution_count": 114,
   "metadata": {},
   "outputs": [
    {
     "data": {
      "image/png": "[encoded data removed]",
      "text/latex": [
       "$\\displaystyle 8 x$"
      ],
      "text/plain": [
       "8⋅x"
      ]
     },
     "execution_count": 114,
     "metadata": {},
     "output_type": "execute_result"
    }
   ],
   "source": [
    "a.subs(y,2)"
   ]
  },
  {
   "cell_type": "markdown",
   "metadata": {},
   "source": [
    "Puede realizar sustituciones de varios símbolos. Para este fin, uno lo llama con una lista de tuplas o un diccionario."
   ]
  },
  {
   "cell_type": "code",
   "execution_count": 115,
   "metadata": {},
   "outputs": [
    {
     "data": {
      "image/png": "[encoded data removed]",
      "text/latex": [
       "$\\displaystyle 8 \\pi$"
      ],
      "text/plain": [
       "8⋅π"
      ]
     },
     "execution_count": 115,
     "metadata": {},
     "output_type": "execute_result"
    }
   ],
   "source": [
    "a.subs([(x,pi),(y,2)])"
   ]
  },
  {
   "cell_type": "code",
   "execution_count": 116,
   "metadata": {},
   "outputs": [
    {
     "data": {
      "image/png": "[encoded data removed]",
      "text/latex": [
       "$\\displaystyle 8 \\pi$"
      ],
      "text/plain": [
       "8⋅π"
      ]
     },
     "execution_count": 116,
     "metadata": {},
     "output_type": "execute_result"
    }
   ],
   "source": [
    "a.subs({x:pi,y:2})"
   ]
  },
  {
   "cell_type": "markdown",
   "metadata": {},
   "source": [
    "Puede sustituir no solo un símbolo, sino también una subexpresión, una función con argumentos."
   ]
  },
  {
   "cell_type": "code",
   "execution_count": 111,
   "metadata": {},
   "outputs": [
    {
     "data": {
      "image/png": "[encoded data removed]",
      "text/latex": [
       "$\\displaystyle f{\\left(x \\right)} + 1$"
      ],
      "text/plain": [
       "f(x) + 1"
      ]
     },
     "execution_count": 111,
     "metadata": {},
     "output_type": "execute_result"
    }
   ],
   "source": [
    "a=f(x)+f(y)\n",
    "a.subs(f(y),1)"
   ]
  },
  {
   "cell_type": "code",
   "execution_count": 112,
   "metadata": {},
   "outputs": [
    {
     "data": {
      "image/png": "[encoded data removed]",
      "text/latex": [
       "$\\displaystyle 2 z^{2}$"
      ],
      "text/plain": [
       "   2\n",
       "2⋅z "
      ]
     },
     "execution_count": 112,
     "metadata": {},
     "output_type": "execute_result"
    }
   ],
   "source": [
    "(2*x*y*z).subs(x*y,z)"
   ]
  },
  {
   "cell_type": "code",
   "execution_count": 113,
   "metadata": {},
   "outputs": [
    {
     "data": {
      "image/png": "[encoded data removed]",
      "text/latex": [
       "$\\displaystyle y^{\\frac{3}{2}} + \\sqrt{y} + y^{2} + y$"
      ],
      "text/plain": [
       " 3/2         2    \n",
       "y    + √y + y  + y"
      ]
     },
     "execution_count": 113,
     "metadata": {},
     "output_type": "execute_result"
    }
   ],
   "source": [
    "(x+x**2+x**2*x+x**4).subs(x**2,y)"
   ]
  },
  {
   "cell_type": "markdown",
   "metadata": {},
   "source": [
    "#### Las sustituciones se realizan secuencialmente. En este caso, primero $x$  es reemplazado por $y$ produciendo $y^3+y^2$; entonces $y$ es reemplazado por $x$ en este resultado"
   ]
  },
  {
   "cell_type": "code",
   "execution_count": 117,
   "metadata": {},
   "outputs": [
    {
     "data": {
      "image/png": "[encoded data removed]",
      "text/latex": [
       "$\\displaystyle x^{3} + x^{2}$"
      ],
      "text/plain": [
       " 3    2\n",
       "x  + x "
      ]
     },
     "execution_count": 117,
     "metadata": {},
     "output_type": "execute_result"
    }
   ],
   "source": [
    "a= x**2+y**3\n",
    "a.subs([(x,y),(y,x)])   # primero reemplaza la x por y y después a la y por x"
   ]
  },
  {
   "cell_type": "markdown",
   "metadata": {},
   "source": [
    "Intercambiar estas sustituciones conduce a un resultado diferente."
   ]
  },
  {
   "cell_type": "code",
   "execution_count": 118,
   "metadata": {},
   "outputs": [
    {
     "data": {
      "image/png": "[encoded data removed]",
      "text/latex": [
       "$\\displaystyle y^{3} + y^{2}$"
      ],
      "text/plain": [
       " 3    2\n",
       "y  + y "
      ]
     },
     "execution_count": 118,
     "metadata": {},
     "output_type": "execute_result"
    }
   ],
   "source": [
    "a.subs([(y,x),(x,y)]) # primero reemplaza la y por x y después a la x por y"
   ]
  },
  {
   "cell_type": "markdown",
   "metadata": {},
   "source": [
    "#### Pero si se llama `subs` con el parámetro de palabra clave `simultaneous = True`, todas las sustituciones se realizan simultáneamente. De esta manera se puede, por ejemplo, intercambiar $x$  y  $y$. \n",
    "#### La x reemplaza a que era y en a, al mismo tiempo la y reemplaza a la que era x en a."
   ]
  },
  {
   "cell_type": "code",
   "execution_count": 119,
   "metadata": {},
   "outputs": [
    {
     "data": {
      "image/png": "[encoded data removed]",
      "text/latex": [
       "$\\displaystyle x^{3} + y^{2}$"
      ],
      "text/plain": [
       " 3    2\n",
       "x  + y "
      ]
     },
     "execution_count": 119,
     "metadata": {},
     "output_type": "execute_result"
    }
   ],
   "source": [
    "a.subs([(x,y),(y,x)],simultaneous=True)    # quedan intercambiadas respecto de a= x**2 + y**3"
   ]
  },
  {
   "cell_type": "markdown",
   "metadata": {},
   "source": [
    "Una función puede ser reemplazada por otra función. Reemplaza la f por la g."
   ]
  },
  {
   "cell_type": "code",
   "execution_count": 121,
   "metadata": {},
   "outputs": [
    {
     "data": {
      "image/png": "[encoded data removed]",
      "text/latex": [
       "$\\displaystyle g{\\left(x \\right)} + g{\\left(y \\right)}$"
      ],
      "text/plain": [
       "g(x) + g(y)"
      ]
     },
     "execution_count": 121,
     "metadata": {},
     "output_type": "execute_result"
    }
   ],
   "source": [
    "g = Function('g')\n",
    "a = f(x)+f(y)\n",
    "a.subs(f,g)"
   ]
  },
  {
   "cell_type": "markdown",
   "metadata": {},
   "source": [
    "####  El método `replace` busca subexpresiones que coincidan con un patrón ( comodines) y las reemplaza por una expresión dada. Si usamos Wild en vez de Symbol  \"a\"  va a hacer match con cualquier argumento, excepto alguno que puediera estar excluido. "
   ]
  },
  {
   "cell_type": "code",
   "execution_count": 122,
   "metadata": {},
   "outputs": [],
   "source": [
    "f=Function('f')"
   ]
  },
  {
   "cell_type": "markdown",
   "metadata": {},
   "source": [
    "Diferencia entre Wild y Symbol "
   ]
  },
  {
   "cell_type": "code",
   "execution_count": 123,
   "metadata": {},
   "outputs": [
    {
     "data": {
      "image/png": "[encoded data removed]",
      "text/latex": [
       "$\\displaystyle f{\\left(x \\right)} + f{\\left(x + y \\right)}$"
      ],
      "text/plain": [
       "f(x) + f(x + y)"
      ]
     },
     "execution_count": 123,
     "metadata": {},
     "output_type": "execute_result"
    }
   ],
   "source": [
    "a = Symbol('a')\n",
    "(f(x)+f(x+y)).replace(f(a),a**2)"
   ]
  },
  {
   "cell_type": "code",
   "execution_count": 124,
   "metadata": {},
   "outputs": [
    {
     "data": {
      "image/png": "[encoded data removed]",
      "text/latex": [
       "$\\displaystyle x^{2} + \\left(x + y\\right)^{2}$"
      ],
      "text/plain": [
       " 2          2\n",
       "x  + (x + y) "
      ]
     },
     "execution_count": 124,
     "metadata": {},
     "output_type": "execute_result"
    }
   ],
   "source": [
    "a = Wild('a')\n",
    "(f(x)+f(x+y)).replace(f(a),a**2)"
   ]
  },
  {
   "cell_type": "code",
   "execution_count": 125,
   "metadata": {},
   "outputs": [
    {
     "data": {
      "image/png": "[encoded data removed]",
      "text/latex": [
       "$\\displaystyle x^{2} + f{\\left(x,y \\right)}$"
      ],
      "text/plain": [
       " 2          \n",
       "x  + f(x, y)"
      ]
     },
     "execution_count": 125,
     "metadata": {},
     "output_type": "execute_result"
    }
   ],
   "source": [
    "(f(x,x)+f(x,y)).replace(f(a,a),a**2)"
   ]
  },
  {
   "cell_type": "code",
   "execution_count": 126,
   "metadata": {},
   "outputs": [
    {
     "data": {
      "image/png": "[encoded data removed]",
      "text/latex": [
       "$\\displaystyle y^{2} + \\left(x + 1\\right)^{2}$"
      ],
      "text/plain": [
       " 2          2\n",
       "y  + (x + 1) "
      ]
     },
     "execution_count": 126,
     "metadata": {},
     "output_type": "execute_result"
    }
   ],
   "source": [
    "a=x**2+y**2\n",
    "a.replace(x,x+1)"
   ]
  },
  {
   "cell_type": "markdown",
   "metadata": {},
   "source": [
    "Solo un sub árbol completo puede igualar un patrón, no un subconjunto de factores en un producto o una potencia menor en uno más grande."
   ]
  },
  {
   "cell_type": "code",
   "execution_count": 127,
   "metadata": {},
   "outputs": [
    {
     "data": {
      "image/png": "[encoded data removed]",
      "text/latex": [
       "$\\displaystyle 2 x y z + z$"
      ],
      "text/plain": [
       "2⋅x⋅y⋅z + z"
      ]
     },
     "execution_count": 127,
     "metadata": {},
     "output_type": "execute_result"
    }
   ],
   "source": [
    "a=2*x*y*z + x*y\n",
    "a.replace(x*y,z)"
   ]
  },
  {
   "cell_type": "code",
   "execution_count": 129,
   "metadata": {},
   "outputs": [
    {
     "data": {
      "image/png": "[encoded data removed]",
      "text/latex": [
       "$\\displaystyle 2 x^{2} y^{2} + x y$"
      ],
      "text/plain": [
       "   2  2      \n",
       "2⋅x ⋅y  + x⋅y"
      ]
     },
     "execution_count": 129,
     "metadata": {},
     "output_type": "execute_result"
    }
   ],
   "source": [
    "a=2*x*z*y + x*y\n",
    "a.replace(z,x*y)"
   ]
  },
  {
   "cell_type": "code",
   "execution_count": 130,
   "metadata": {},
   "outputs": [
    {
     "data": {
      "image/png": "[encoded data removed]",
      "text/latex": [
       "$\\displaystyle x^{4} + x^{3} + x + y$"
      ],
      "text/plain": [
       " 4    3        \n",
       "x  + x  + x + y"
      ]
     },
     "execution_count": 130,
     "metadata": {},
     "output_type": "execute_result"
    }
   ],
   "source": [
    "(x+x**2+x**3+x**4).replace(x**2,y)"
   ]
  },
  {
   "cell_type": "markdown",
   "metadata": {},
   "source": [
    "## Resolviendo ecuaciones "
   ]
  },
  {
   "cell_type": "code",
   "execution_count": 28,
   "metadata": {},
   "outputs": [],
   "source": [
    "a,b,c,d,e,f=symbols('a b c d e f')"
   ]
  },
  {
   "cell_type": "markdown",
   "metadata": {},
   "source": [
    "Como se ha mencionado anteriormente las ecuaciones no se pueden crear con el `=`"
   ]
  },
  {
   "cell_type": "markdown",
   "metadata": {},
   "source": [
    "Una ecuación está representada por la función `Eq` con dos argumentos. La función `solve` devuelve una lista de soluciones."
   ]
  },
  {
   "cell_type": "markdown",
   "metadata": {},
   "source": [
    "Creamos la ecuación"
   ]
  },
  {
   "cell_type": "code",
   "execution_count": 29,
   "metadata": {},
   "outputs": [
    {
     "data": {
      "image/png": "[encoded data removed]",
      "text/latex": [
       "$\\displaystyle x^{2} - x = 3$"
      ],
      "text/plain": [
       " 2        \n",
       "x  - x = 3"
      ]
     },
     "execution_count": 29,
     "metadata": {},
     "output_type": "execute_result"
    }
   ],
   "source": [
    "ecuacion = Eq(x ** 2 - x, 3)\n",
    "ecuacion"
   ]
  },
  {
   "cell_type": "markdown",
   "metadata": {},
   "source": [
    "la resolvemos"
   ]
  },
  {
   "cell_type": "code",
   "execution_count": 32,
   "metadata": {},
   "outputs": [
    {
     "data": {
      "image/png": "[encoded data removed]",
      "text/latex": [
       "$\\displaystyle \\left[ \\frac{1}{2} - \\frac{\\sqrt{13}}{2}, \\  \\frac{1}{2} + \\frac{\\sqrt{13}}{2}\\right]$"
      ],
      "text/plain": [
       "⎡1   √13  1   √13⎤\n",
       "⎢─ - ───, ─ + ───⎥\n",
       "⎣2    2   2    2 ⎦"
      ]
     },
     "execution_count": 32,
     "metadata": {},
     "output_type": "execute_result"
    }
   ],
   "source": [
    "solve(ecuacion)"
   ]
  },
  {
   "cell_type": "markdown",
   "metadata": {},
   "source": [
    "## `solve()`"
   ]
  },
  {
   "cell_type": "code",
   "execution_count": 132,
   "metadata": {},
   "outputs": [
    {
     "data": {
      "image/png": "[encoded data removed]",
      "text/latex": [
       "$\\displaystyle \\left[ \\frac{b}{a}\\right]$"
      ],
      "text/plain": [
       "⎡b⎤\n",
       "⎢─⎥\n",
       "⎣a⎦"
      ]
     },
     "execution_count": 132,
     "metadata": {},
     "output_type": "execute_result"
    }
   ],
   "source": [
    "solve(Eq(a*x,b),x)"
   ]
  },
  {
   "cell_type": "markdown",
   "metadata": {},
   "source": [
    "En lugar de ecuaciones, uno puede pasar expresiones justas a `solve`; significan ecuaciones `<expression> = 0`."
   ]
  },
  {
   "cell_type": "code",
   "execution_count": 133,
   "metadata": {},
   "outputs": [
    {
     "data": {
      "image/png": "[encoded data removed]",
      "text/latex": [
       "$\\displaystyle \\left[ - \\frac{b}{a}\\right]$"
      ],
      "text/plain": [
       "⎡-b ⎤\n",
       "⎢───⎥\n",
       "⎣ a ⎦"
      ]
     },
     "execution_count": 133,
     "metadata": {},
     "output_type": "execute_result"
    }
   ],
   "source": [
    "solve(a*x+b,x)"
   ]
  },
  {
   "cell_type": "markdown",
   "metadata": {},
   "source": [
    "Una ecuación cuadrada tiene 2 soluciones."
   ]
  },
  {
   "cell_type": "code",
   "execution_count": 134,
   "metadata": {},
   "outputs": [
    {
     "data": {
      "image/png": "[encoded data removed]",
      "text/latex": [
       "$\\displaystyle \\left[ \\frac{- b + \\sqrt{- 4 a c + b^{2}}}{2 a}, \\  - \\frac{b + \\sqrt{- 4 a c + b^{2}}}{2 a}\\right]$"
      ],
      "text/plain": [
       "⎡        _____________   ⎛       _____________⎞ ⎤\n",
       "⎢       ╱           2    ⎜      ╱           2 ⎟ ⎥\n",
       "⎢-b + ╲╱  -4⋅a⋅c + b    -⎝b + ╲╱  -4⋅a⋅c + b  ⎠ ⎥\n",
       "⎢─────────────────────, ────────────────────────⎥\n",
       "⎣         2⋅a                     2⋅a           ⎦"
      ]
     },
     "execution_count": 134,
     "metadata": {},
     "output_type": "execute_result"
    }
   ],
   "source": [
    "solve(a*x**2+b*x+c,x)"
   ]
  },
  {
   "cell_type": "markdown",
   "metadata": {},
   "source": [
    "Un sistema de ecuaciones lineales."
   ]
  },
  {
   "cell_type": "code",
   "execution_count": 135,
   "metadata": {},
   "outputs": [
    {
     "data": {
      "image/png": "[encoded data removed]",
      "text/latex": [
       "$\\displaystyle \\left\\{ x : \\frac{- b f + d e}{a d - b c}, \\  y : \\frac{a f - c e}{a d - b c}\\right\\}$"
      ],
      "text/plain": [
       "⎧   -b⋅f + d⋅e     a⋅f - c⋅e⎫\n",
       "⎨x: ──────────, y: ─────────⎬\n",
       "⎩   a⋅d - b⋅c      a⋅d - b⋅c⎭"
      ]
     },
     "execution_count": 135,
     "metadata": {},
     "output_type": "execute_result"
    }
   ],
   "source": [
    "solve([a*x+b*y-e,c*x+d*y-f],[x,y])"
   ]
  },
  {
   "cell_type": "markdown",
   "metadata": {},
   "source": [
    "## roots()"
   ]
  },
  {
   "cell_type": "markdown",
   "metadata": {},
   "source": [
    "La función `roots` devuelve las raíces de un polinomio junto con sus multiplicidades.\n",
    "\n",
    "Buscamos las raíces de:   $$ x^{3} - 3 x + 2 = 0 $$"
   ]
  },
  {
   "cell_type": "code",
   "execution_count": 364,
   "metadata": {},
   "outputs": [
    {
     "data": {
      "image/png": "[encoded data removed]",
      "text/latex": [
       "$\\displaystyle \\left\\{ -2 : 1, \\  1 : 2\\right\\}$"
      ],
      "text/plain": [
       "{-2: 1, 1: 2}"
      ]
     },
     "execution_count": 364,
     "metadata": {},
     "output_type": "execute_result"
    }
   ],
   "source": [
    "roots(x**3-3*x+2,x)"
   ]
  },
  {
   "cell_type": "markdown",
   "metadata": {},
   "source": [
    "La raíz x = -2 multiplicidad 1 y la raíz x = 1 multiplicidad 2 "
   ]
  },
  {
   "cell_type": "markdown",
   "metadata": {},
   "source": [
    "## Pero algunas veces necesitamos resolver con símbolos,\n",
    "# $$a e^{\\frac{x}{t}} = C$$"
   ]
  },
  {
   "cell_type": "markdown",
   "metadata": {},
   "source": [
    "Creamos los símbolos y la ecuación"
   ]
  },
  {
   "cell_type": "code",
   "execution_count": 34,
   "metadata": {},
   "outputs": [
    {
     "data": {
      "image/png": "[encoded data removed]",
      "text/latex": [
       "$\\displaystyle a e^{\\frac{x}{t}} = C$"
      ],
      "text/plain": [
       "   x    \n",
       "   ─    \n",
       "   t    \n",
       "a⋅ℯ  = C"
      ]
     },
     "execution_count": 34,
     "metadata": {},
     "output_type": "execute_result"
    }
   ],
   "source": [
    "a, x, t, C = symbols('a, x, t, C', real=True)\n",
    "ecuacion = Eq(a * exp(x/t), C)\n",
    "ecuacion"
   ]
  },
  {
   "cell_type": "markdown",
   "metadata": {},
   "source": [
    "La resolvemos\n"
   ]
  },
  {
   "cell_type": "code",
   "execution_count": 35,
   "metadata": {},
   "outputs": [
    {
     "data": {
      "image/png": "[encoded data removed]",
      "text/latex": [
       "$\\displaystyle \\left[ t \\log{\\left(\\frac{C}{a} \\right)}\\right]$"
      ],
      "text/plain": [
       "⎡     ⎛C⎞⎤\n",
       "⎢t⋅log⎜─⎟⎥\n",
       "⎣     ⎝a⎠⎦"
      ]
     },
     "execution_count": 35,
     "metadata": {},
     "output_type": "execute_result"
    }
   ],
   "source": [
    "solve(ecuacion ,x)"
   ]
  },
  {
   "cell_type": "code",
   "execution_count": 36,
   "metadata": {},
   "outputs": [
    {
     "data": {
      "image/png": "[encoded data removed]",
      "text/latex": [
       "$\\displaystyle \\left[ \\frac{x}{\\log{\\left(\\frac{C}{a} \\right)}}\\right]$"
      ],
      "text/plain": [
       "⎡  x   ⎤\n",
       "⎢──────⎥\n",
       "⎢   ⎛C⎞⎥\n",
       "⎢log⎜─⎟⎥\n",
       "⎣   ⎝a⎠⎦"
      ]
     },
     "execution_count": 36,
     "metadata": {},
     "output_type": "execute_result"
    }
   ],
   "source": [
    "solve(ecuacion ,t)"
   ]
  },
  {
   "cell_type": "markdown",
   "metadata": {},
   "source": [
    "Si consultamos la ayuda, vemos que las posibilidades y el número de parámetros son muchos, no vamos a entrar ahora en ellos."
   ]
  },
  {
   "cell_type": "code",
   "execution_count": null,
   "metadata": {},
   "outputs": [],
   "source": []
  },
  {
   "cell_type": "markdown",
   "metadata": {},
   "source": [
    "#### La función `solve_poly_system` resuelve sistemas de ecuaciones polinomiales mediante la construcción de sus bases de Gröbner."
   ]
  },
  {
   "cell_type": "code",
   "execution_count": 365,
   "metadata": {},
   "outputs": [
    {
     "data": {
      "image/png": "[encoded data removed]",
      "text/latex": [
       "$\\displaystyle \\left[ \\left( 4 \\left(-1 - \\sqrt{\\frac{1}{2} - \\frac{\\sqrt{3}}{4}}\\right) \\sqrt{\\frac{1}{2} - \\frac{\\sqrt{3}}{4}} \\left(1 - \\sqrt{\\frac{1}{2} - \\frac{\\sqrt{3}}{4}}\\right), \\  - \\sqrt{\\frac{1}{2} - \\frac{\\sqrt{3}}{4}}\\right), \\  \\left( - 4 \\left(-1 + \\sqrt{\\frac{1}{2} - \\frac{\\sqrt{3}}{4}}\\right) \\sqrt{\\frac{1}{2} - \\frac{\\sqrt{3}}{4}} \\left(\\sqrt{\\frac{1}{2} - \\frac{\\sqrt{3}}{4}} + 1\\right), \\  \\sqrt{\\frac{1}{2} - \\frac{\\sqrt{3}}{4}}\\right), \\  \\left( 4 \\left(-1 - \\sqrt{\\frac{\\sqrt{3}}{4} + \\frac{1}{2}}\\right) \\left(1 - \\sqrt{\\frac{\\sqrt{3}}{4} + \\frac{1}{2}}\\right) \\sqrt{\\frac{\\sqrt{3}}{4} + \\frac{1}{2}}, \\  - \\sqrt{\\frac{\\sqrt{3}}{4} + \\frac{1}{2}}\\right), \\  \\left( - 4 \\left(-1 + \\sqrt{\\frac{\\sqrt{3}}{4} + \\frac{1}{2}}\\right) \\sqrt{\\frac{\\sqrt{3}}{4} + \\frac{1}{2}} \\left(\\sqrt{\\frac{\\sqrt{3}}{4} + \\frac{1}{2}} + 1\\right), \\  \\sqrt{\\frac{\\sqrt{3}}{4} + \\frac{1}{2}}\\right)\\right]$"
      ],
      "text/plain": [
       "⎡⎛  ⎛         ________⎞     ________ ⎛        ________⎞       ________⎞  ⎛   ⎛\n",
       "⎢⎜  ⎜        ╱ 1   √3 ⎟    ╱ 1   √3  ⎜       ╱ 1   √3 ⎟      ╱ 1   √3 ⎟  ⎜   ⎜\n",
       "⎢⎜4⋅⎜-1 -   ╱  ─ - ── ⎟⋅  ╱  ─ - ── ⋅⎜1 -   ╱  ─ - ── ⎟, -  ╱  ─ - ── ⎟, ⎜-4⋅⎜\n",
       "⎣⎝  ⎝     ╲╱   2   4  ⎠ ╲╱   2   4   ⎝    ╲╱   2   4  ⎠   ╲╱   2   4  ⎠  ⎝   ⎝\n",
       "\n",
       "         ________⎞     ________ ⎛    ________    ⎞      ________⎞  ⎛  ⎛       \n",
       "        ╱ 1   √3 ⎟    ╱ 1   √3  ⎜   ╱ 1   √3     ⎟     ╱ 1   √3 ⎟  ⎜  ⎜       \n",
       "-1 +   ╱  ─ - ── ⎟⋅  ╱  ─ - ── ⋅⎜  ╱  ─ - ──  + 1⎟,   ╱  ─ - ── ⎟, ⎜4⋅⎜-1 -   \n",
       "     ╲╱   2   4  ⎠ ╲╱   2   4   ⎝╲╱   2   4      ⎠  ╲╱   2   4  ⎠  ⎝  ⎝     ╲╱\n",
       "\n",
       "  ________⎞ ⎛        ________⎞     ________       ________⎞  ⎛   ⎛         ___\n",
       " ╱ √3   1 ⎟ ⎜       ╱ √3   1 ⎟    ╱ √3   1       ╱ √3   1 ⎟  ⎜   ⎜        ╱ √3\n",
       "╱  ── + ─ ⎟⋅⎜1 -   ╱  ── + ─ ⎟⋅  ╱  ── + ─ , -  ╱  ── + ─ ⎟, ⎜-4⋅⎜-1 +   ╱  ──\n",
       "   4    2 ⎠ ⎝    ╲╱   4    2 ⎠ ╲╱   4    2    ╲╱   4    2 ⎠  ⎝   ⎝     ╲╱   4 \n",
       "\n",
       "_____⎞     ________ ⎛    ________    ⎞      ________⎞⎤\n",
       "   1 ⎟    ╱ √3   1  ⎜   ╱ √3   1     ⎟     ╱ √3   1 ⎟⎥\n",
       " + ─ ⎟⋅  ╱  ── + ─ ⋅⎜  ╱  ── + ─  + 1⎟,   ╱  ── + ─ ⎟⎥\n",
       "   2 ⎠ ╲╱   4    2  ⎝╲╱   4    2     ⎠  ╲╱   4    2 ⎠⎦"
      ]
     },
     "execution_count": 365,
     "metadata": {},
     "output_type": "execute_result"
    }
   ],
   "source": [
    "p1=x**2+y**2-1\n",
    "p2=4*x*y-1\n",
    "solve_poly_system([p1,p2],x,y)"
   ]
  },
  {
   "cell_type": "markdown",
   "metadata": {},
   "source": [
    "## Ecuaciones diferenciales"
   ]
  },
  {
   "cell_type": "markdown",
   "metadata": {},
   "source": [
    "Tratemos de resolver, por ejemplo:\n",
    "\n",
    "$$y{\\left (x \\right )} + \\frac{d}{d x} y{\\left (x \\right )} + \\frac{d^{2}}{d x^{2}}  y{\\left (x \\right )} = \\cos{\\left (x \\right )}$$"
   ]
  },
  {
   "cell_type": "markdown",
   "metadata": {},
   "source": [
    "## `dsolve()`"
   ]
  },
  {
   "cell_type": "markdown",
   "metadata": {},
   "source": [
    "Cambiamos el nombre y decimos que f simboliza a 'y', mientras que x simboliza a 'x' "
   ]
  },
  {
   "cell_type": "code",
   "execution_count": 38,
   "metadata": {},
   "outputs": [
    {
     "data": {
      "image/png": "[encoded data removed]",
      "text/latex": [
       "$\\displaystyle y{\\left(x \\right)} + \\frac{d}{d x} y{\\left(x \\right)} + \\frac{d^{2}}{d x^{2}} y{\\left(x \\right)} = \\cos{\\left(x \\right)}$"
      ],
      "text/plain": [
       "                    2               \n",
       "       d           d                \n",
       "y(x) + ──(y(x)) + ───(y(x)) = cos(x)\n",
       "       dx           2               \n",
       "                  dx                "
      ]
     },
     "execution_count": 38,
     "metadata": {},
     "output_type": "execute_result"
    }
   ],
   "source": [
    "x = symbols('x')\n",
    "f = Function('y')\n",
    "ecuacion_dif = Eq(f(x).diff(x,2) + f(x).diff(x) + f(x), cos(x))\n",
    "ecuacion_dif"
   ]
  },
  {
   "cell_type": "markdown",
   "metadata": {},
   "source": [
    "resolvemos"
   ]
  },
  {
   "cell_type": "code",
   "execution_count": 39,
   "metadata": {},
   "outputs": [
    {
     "data": {
      "image/png": "[encoded data removed]",
      "text/latex": [
       "$\\displaystyle y{\\left(x \\right)} = \\frac{C_{1} \\sin{\\left(\\frac{\\sqrt{3} x}{2} \\right)} + C_{2} \\cos{\\left(\\frac{\\sqrt{3} x}{2} \\right)}}{\\sqrt{e^{x}}} + \\sin{\\left(x \\right)}$"
      ],
      "text/plain": [
       "             ⎛√3⋅x⎞         ⎛√3⋅x⎞         \n",
       "       C₁⋅sin⎜────⎟ + C₂⋅cos⎜────⎟         \n",
       "             ⎝ 2  ⎠         ⎝ 2  ⎠         \n",
       "y(x) = ─────────────────────────── + sin(x)\n",
       "                    ____                   \n",
       "                   ╱  x                    \n",
       "                 ╲╱  ℯ                     "
      ]
     },
     "execution_count": 39,
     "metadata": {},
     "output_type": "execute_result"
    }
   ],
   "source": [
    "dsolve(ecuacion_dif, f(x))"
   ]
  },
  {
   "cell_type": "markdown",
   "metadata": {},
   "source": [
    "## Series"
   ]
  },
  {
   "cell_type": "markdown",
   "metadata": {},
   "source": [
    "Es más facil tratar con polinomios que con funciones arbitrarias. Es posible expandir cualquier funcion derivable como una suma de polinomios llamada Serie de Taylor. \n",
    "Los desarrollos en serie se pueden llevar a cabo con el método `.series()` o la función `series()`"
   ]
  },
  {
   "cell_type": "markdown",
   "metadata": {},
   "source": [
    "### Creamos la expresión $$\\displaystyle e^{x}$$"
   ]
  },
  {
   "cell_type": "code",
   "execution_count": 43,
   "metadata": {},
   "outputs": [
    {
     "data": {
      "image/png": "[encoded data removed]",
      "text/latex": [
       "$\\displaystyle e^{x}$"
      ],
      "text/plain": [
       " x\n",
       "ℯ "
      ]
     },
     "execution_count": 43,
     "metadata": {},
     "output_type": "execute_result"
    }
   ],
   "source": [
    "expr = exp(x)\n",
    "expr"
   ]
  },
  {
   "cell_type": "markdown",
   "metadata": {},
   "source": [
    "La desarrollamos en serie"
   ]
  },
  {
   "cell_type": "code",
   "execution_count": 44,
   "metadata": {},
   "outputs": [
    {
     "data": {
      "image/png": "[encoded data removed]",
      "text/latex": [
       "$\\displaystyle 1 + x + \\frac{x^{2}}{2} + \\frac{x^{3}}{6} + \\frac{x^{4}}{24} + \\frac{x^{5}}{120} + O\\left(x^{6}\\right)$"
      ],
      "text/plain": [
       "         2    3    4     5        \n",
       "        x    x    x     x     ⎛ 6⎞\n",
       "1 + x + ── + ── + ── + ─── + O⎝x ⎠\n",
       "        2    6    24   120        "
      ]
     },
     "execution_count": 44,
     "metadata": {},
     "output_type": "execute_result"
    }
   ],
   "source": [
    "series(expr)"
   ]
  },
  {
   "cell_type": "markdown",
   "metadata": {},
   "source": [
    "Se puede especificar el número de términos pasándole un argumento n=....\n",
    "El número que le pasemos será el primer término que desprecie."
   ]
  },
  {
   "cell_type": "markdown",
   "metadata": {},
   "source": [
    "Indicando el número de términos"
   ]
  },
  {
   "cell_type": "code",
   "execution_count": 48,
   "metadata": {},
   "outputs": [
    {
     "data": {
      "image/png": "[encoded data removed]",
      "text/latex": [
       "$\\displaystyle 1 + x + \\frac{x^{2}}{2} + \\frac{x^{3}}{6} + \\frac{x^{4}}{24} + O\\left(x^{5}\\right)$"
      ],
      "text/plain": [
       "         2    3    4        \n",
       "        x    x    x     ⎛ 5⎞\n",
       "1 + x + ── + ── + ── + O⎝x ⎠\n",
       "        2    6    24        "
      ]
     },
     "execution_count": 48,
     "metadata": {},
     "output_type": "execute_result"
    }
   ],
   "source": [
    "exp(x).series(x,0,5)"
   ]
  },
  {
   "cell_type": "code",
   "execution_count": 49,
   "metadata": {},
   "outputs": [
    {
     "data": {
      "image/png": "[encoded data removed]",
      "text/latex": [
       "$\\displaystyle 1 + x + \\frac{x^{2}}{2} + \\frac{x^{3}}{6} + \\frac{x^{4}}{24} + \\frac{x^{5}}{120} + \\frac{x^{6}}{720} + \\frac{x^{7}}{5040} + \\frac{x^{8}}{40320} + \\frac{x^{9}}{362880} + O\\left(x^{10}\\right)$"
      ],
      "text/plain": [
       "         2    3    4     5     6     7       8       9           \n",
       "        x    x    x     x     x     x       x       x       ⎛ 10⎞\n",
       "1 + x + ── + ── + ── + ─── + ─── + ──── + ───── + ────── + O⎝x  ⎠\n",
       "        2    6    24   120   720   5040   40320   362880         "
      ]
     },
     "execution_count": 49,
     "metadata": {},
     "output_type": "execute_result"
    }
   ],
   "source": [
    "series(expr,n=10)"
   ]
  },
  {
   "cell_type": "markdown",
   "metadata": {},
   "source": [
    "Si nos molesta el $\\mathcal{O}(x^{10})$ lo podemos quitar con `removeO()`:"
   ]
  },
  {
   "cell_type": "code",
   "execution_count": 50,
   "metadata": {},
   "outputs": [
    {
     "data": {
      "image/png": "[encoded data removed]",
      "text/latex": [
       "$\\displaystyle \\frac{x^{9}}{362880} + \\frac{x^{8}}{40320} + \\frac{x^{7}}{5040} + \\frac{x^{6}}{720} + \\frac{x^{5}}{120} + \\frac{x^{4}}{24} + \\frac{x^{3}}{6} + \\frac{x^{2}}{2} + x + 1$"
      ],
      "text/plain": [
       "   9        8      7      6     5    4    3    2        \n",
       "  x        x      x      x     x    x    x    x         \n",
       "────── + ───── + ──── + ─── + ─── + ── + ── + ── + x + 1\n",
       "362880   40320   5040   720   120   24   6    2         "
      ]
     },
     "execution_count": 50,
     "metadata": {},
     "output_type": "execute_result"
    }
   ],
   "source": [
    "series(expr, n=10).removeO()"
   ]
  },
  {
   "cell_type": "markdown",
   "metadata": {},
   "source": [
    "La serie puede incluso correr sobre potencias semi enteras"
   ]
  },
  {
   "cell_type": "code",
   "execution_count": 59,
   "metadata": {},
   "outputs": [
    {
     "data": {
      "image/png": "[encoded data removed]",
      "text/latex": [
       "$\\displaystyle \\sqrt{x} - \\frac{x^{\\frac{3}{2}}}{2} - \\frac{x^{\\frac{5}{2}}}{8} - \\frac{x^{\\frac{7}{2}}}{16} - \\frac{5 x^{\\frac{9}{2}}}{128} + O\\left(x^{5}\\right)$"
      ],
      "text/plain": [
       "      3/2    5/2    7/2      9/2        \n",
       "     x      x      x      5⋅x       ⎛ 5⎞\n",
       "√x - ──── - ──── - ──── - ────── + O⎝x ⎠\n",
       "      2      8      16     128          "
      ]
     },
     "execution_count": 59,
     "metadata": {},
     "output_type": "execute_result"
    }
   ],
   "source": [
    "sqrt(x*(1-x)).series(x,n=5)"
   ]
  },
  {
   "cell_type": "markdown",
   "metadata": {},
   "source": [
    "Otro ejemplo"
   ]
  },
  {
   "cell_type": "code",
   "execution_count": 60,
   "metadata": {},
   "outputs": [
    {
     "data": {
      "image/png": "[encoded data removed]",
      "text/latex": [
       "$\\displaystyle - \\gamma x + \\frac{\\pi^{2} x^{2}}{12} - \\frac{x^{3} \\zeta\\left(3\\right)}{3} + \\frac{\\pi^{4} x^{4}}{360} - \\frac{x^{5} \\zeta\\left(5\\right)}{5} + O\\left(x^{6}\\right)$"
      ],
      "text/plain": [
       "        2  2    3         4  4    5             \n",
       "       π ⋅x    x ⋅ζ(3)   π ⋅x    x ⋅ζ(5)    ⎛ 6⎞\n",
       "-γ⋅x + ───── - ─────── + ───── - ─────── + O⎝x ⎠\n",
       "         12       3       360       5           "
      ]
     },
     "execution_count": 60,
     "metadata": {},
     "output_type": "execute_result"
    }
   ],
   "source": [
    "log(gamma(1+x)).series(x,n=6).rewrite(zeta)"
   ]
  },
  {
   "cell_type": "markdown",
   "metadata": {},
   "source": [
    "### Series de funciones trigonométricas"
   ]
  },
  {
   "cell_type": "code",
   "execution_count": 439,
   "metadata": {},
   "outputs": [
    {
     "data": {
      "image/png": "[encoded data removed]",
      "text/latex": [
       "$\\displaystyle \\frac{1}{x} - \\frac{x}{3} - \\frac{x^{3}}{45} + O\\left(x^{5}\\right)$"
      ],
      "text/plain": [
       "         3        \n",
       "1   x   x     ⎛ 5⎞\n",
       "─ - ─ - ── + O⎝x ⎠\n",
       "x   3   45        "
      ]
     },
     "execution_count": 439,
     "metadata": {},
     "output_type": "execute_result"
    }
   ],
   "source": [
    "cot(x).series(x,0,n=5)"
   ]
  },
  {
   "cell_type": "markdown",
   "metadata": {},
   "source": [
    "Una serie puede partir de una potencia negativa."
   ]
  },
  {
   "cell_type": "code",
   "execution_count": 440,
   "metadata": {},
   "outputs": [
    {
     "data": {
      "image/png": "[encoded data removed]",
      "text/latex": [
       "$\\displaystyle x + \\frac{x^{3}}{3} + \\frac{2 x^{5}}{15} + \\frac{17 x^{7}}{315} + O\\left(x^{8}\\right)$"
      ],
      "text/plain": [
       "     3      5       7        \n",
       "    x    2⋅x    17⋅x     ⎛ 8⎞\n",
       "x + ── + ──── + ───── + O⎝x ⎠\n",
       "    3     15     315         "
      ]
     },
     "execution_count": 440,
     "metadata": {},
     "output_type": "execute_result"
    }
   ],
   "source": [
    "tan(x).series(x,0,n=8)"
   ]
  },
  {
   "cell_type": "markdown",
   "metadata": {},
   "source": [
    "Preparemos 3 series."
   ]
  },
  {
   "cell_type": "code",
   "execution_count": 51,
   "metadata": {},
   "outputs": [
    {
     "data": {
      "image/png": "[encoded data removed]",
      "text/latex": [
       "$\\displaystyle x - \\frac{x^{3}}{6} + \\frac{x^{5}}{120} + O\\left(x^{6}\\right)$"
      ],
      "text/plain": [
       "     3     5        \n",
       "    x     x     ⎛ 6⎞\n",
       "x - ── + ─── + O⎝x ⎠\n",
       "    6    120        "
      ]
     },
     "execution_count": 51,
     "metadata": {},
     "output_type": "execute_result"
    }
   ],
   "source": [
    "series(sin(x))"
   ]
  },
  {
   "cell_type": "code",
   "execution_count": 52,
   "metadata": {},
   "outputs": [
    {
     "data": {
      "image/png": "[encoded data removed]",
      "text/latex": [
       "$\\displaystyle x - \\frac{x^{3}}{6} + \\frac{x^{5}}{120} - \\frac{x^{7}}{5040} + O\\left(x^{8}\\right)$"
      ],
      "text/plain": [
       "     3     5     7         \n",
       "    x     x     x      ⎛ 8⎞\n",
       "x - ── + ─── - ──── + O⎝x ⎠\n",
       "    6    120   5040        "
      ]
     },
     "execution_count": 52,
     "metadata": {},
     "output_type": "execute_result"
    }
   ],
   "source": [
    "series(sin(x), n=8)"
   ]
  },
  {
   "cell_type": "code",
   "execution_count": 53,
   "metadata": {},
   "outputs": [
    {
     "data": {
      "image/png": "[encoded data removed]",
      "text/latex": [
       "$\\displaystyle x - \\frac{x^{3}}{6} + \\frac{x^{5}}{120} - \\frac{x^{7}}{5040} + O\\left(x^{8}\\right)$"
      ],
      "text/plain": [
       "     3     5     7         \n",
       "    x     x     x      ⎛ 8⎞\n",
       "x - ── + ─── - ──── + O⎝x ⎠\n",
       "    6    120   5040        "
      ]
     },
     "execution_count": 53,
     "metadata": {},
     "output_type": "execute_result"
    }
   ],
   "source": [
    "sinx=series(sin(x),x,0,8)\n",
    "sinx"
   ]
  },
  {
   "cell_type": "code",
   "execution_count": 54,
   "metadata": {},
   "outputs": [
    {
     "data": {
      "image/png": "[encoded data removed]",
      "text/latex": [
       "$\\displaystyle \\frac{x}{2} - \\frac{\\left(x - \\frac{\\pi}{3}\\right)^{7}}{10080} - \\frac{\\sqrt{3} \\left(x - \\frac{\\pi}{3}\\right)^{6}}{1440} + \\frac{\\left(x - \\frac{\\pi}{3}\\right)^{5}}{240} + \\frac{\\sqrt{3} \\left(x - \\frac{\\pi}{3}\\right)^{4}}{48} - \\frac{\\left(x - \\frac{\\pi}{3}\\right)^{3}}{12} - \\frac{\\sqrt{3} \\left(x - \\frac{\\pi}{3}\\right)^{2}}{4} - \\frac{\\pi}{6} + \\frac{\\sqrt{3}}{2}$"
      ],
      "text/plain": [
       "           7             6          5             4          3             2  \n",
       "    ⎛    π⎞       ⎛    π⎞    ⎛    π⎞       ⎛    π⎞    ⎛    π⎞       ⎛    π⎞   \n",
       "    ⎜x - ─⎟    √3⋅⎜x - ─⎟    ⎜x - ─⎟    √3⋅⎜x - ─⎟    ⎜x - ─⎟    √3⋅⎜x - ─⎟   \n",
       "x   ⎝    3⎠       ⎝    3⎠    ⎝    3⎠       ⎝    3⎠    ⎝    3⎠       ⎝    3⎠   \n",
       "─ - ──────── - ─────────── + ──────── + ─────────── - ──────── - ─────────── -\n",
       "2    10080         1440        240           48          12           4       \n",
       "\n",
       "       \n",
       "       \n",
       "       \n",
       " π   √3\n",
       " ─ + ──\n",
       " 6   2 "
      ]
     },
     "execution_count": 54,
     "metadata": {},
     "output_type": "execute_result"
    }
   ],
   "source": [
    "series(sin(x), n=8, x0=pi/3).removeO()"
   ]
  },
  {
   "cell_type": "code",
   "execution_count": 55,
   "metadata": {},
   "outputs": [
    {
     "data": {
      "image/png": "[encoded data removed]",
      "text/latex": [
       "$\\displaystyle \\frac{x}{2} - \\frac{\\left(x - \\frac{2 \\pi}{3}\\right)^{7}}{10080} - \\frac{\\sqrt{3} \\left(x - \\frac{2 \\pi}{3}\\right)^{6}}{1440} + \\frac{\\left(x - \\frac{2 \\pi}{3}\\right)^{5}}{240} + \\frac{\\sqrt{3} \\left(x - \\frac{2 \\pi}{3}\\right)^{4}}{48} - \\frac{\\left(x - \\frac{2 \\pi}{3}\\right)^{3}}{12} - \\frac{\\sqrt{3} \\left(x - \\frac{2 \\pi}{3}\\right)^{2}}{4} - \\frac{\\pi}{3} + \\frac{\\sqrt{3}}{2}$"
      ],
      "text/plain": [
       "             7               6            5               4            3      \n",
       "    ⎛    2⋅π⎞       ⎛    2⋅π⎞    ⎛    2⋅π⎞       ⎛    2⋅π⎞    ⎛    2⋅π⎞       \n",
       "    ⎜x - ───⎟    √3⋅⎜x - ───⎟    ⎜x - ───⎟    √3⋅⎜x - ───⎟    ⎜x - ───⎟    √3⋅\n",
       "x   ⎝     3 ⎠       ⎝     3 ⎠    ⎝     3 ⎠       ⎝     3 ⎠    ⎝     3 ⎠       \n",
       "─ - ────────── - ───────────── + ────────── + ───────────── - ────────── - ───\n",
       "2     10080           1440          240             48            12          \n",
       "\n",
       "         2         \n",
       "⎛    2⋅π⎞          \n",
       "⎜x - ───⎟          \n",
       "⎝     3 ⎠    π   √3\n",
       "────────── - ─ + ──\n",
       "   4         3   2 "
      ]
     },
     "execution_count": 55,
     "metadata": {},
     "output_type": "execute_result"
    }
   ],
   "source": [
    "series(sin(x), n=8, x0=pi/3).removeO().subs(x, x-pi/3)"
   ]
  },
  {
   "cell_type": "code",
   "execution_count": null,
   "metadata": {},
   "outputs": [],
   "source": []
  },
  {
   "cell_type": "code",
   "execution_count": 444,
   "metadata": {},
   "outputs": [
    {
     "data": {
      "image/png": "[encoded data removed]",
      "text/latex": [
       "$\\displaystyle 1 - \\frac{x^{2}}{2} + \\frac{x^{4}}{24} - \\frac{x^{6}}{720} + O\\left(x^{8}\\right)$"
      ],
      "text/plain": [
       "     2    4     6        \n",
       "    x    x     x     ⎛ 8⎞\n",
       "1 - ── + ── - ─── + O⎝x ⎠\n",
       "    2    24   720        "
      ]
     },
     "execution_count": 444,
     "metadata": {},
     "output_type": "execute_result"
    }
   ],
   "source": [
    "cosx=series(cos(x),x,n=8)\n",
    "cosx"
   ]
  },
  {
   "cell_type": "code",
   "execution_count": 445,
   "metadata": {},
   "outputs": [
    {
     "data": {
      "image/png": "[encoded data removed]",
      "text/latex": [
       "$\\displaystyle x + \\frac{x^{3}}{3} + \\frac{2 x^{5}}{15} + \\frac{17 x^{7}}{315} + O\\left(x^{8}\\right)$"
      ],
      "text/plain": [
       "     3      5       7        \n",
       "    x    2⋅x    17⋅x     ⎛ 8⎞\n",
       "x + ── + ──── + ───── + O⎝x ⎠\n",
       "    3     15     315         "
      ]
     },
     "execution_count": 445,
     "metadata": {},
     "output_type": "execute_result"
    }
   ],
   "source": [
    "tanx=series(tan(x),x,n=8)\n",
    "tanx"
   ]
  },
  {
   "cell_type": "markdown",
   "metadata": {},
   "source": [
    "Los productos y las relaciones de las series no se calculan automáticamente, la función seriesdebe aplicarse a ellos."
   ]
  },
  {
   "cell_type": "code",
   "execution_count": 446,
   "metadata": {},
   "outputs": [
    {
     "data": {
      "image/png": "[encoded data removed]",
      "text/latex": [
       "$\\displaystyle x - \\frac{x^{3}}{6} + \\frac{x^{5}}{120} - \\frac{x^{7}}{5040} + O\\left(x^{8}\\right)$"
      ],
      "text/plain": [
       "     3     5     7         \n",
       "    x     x     x      ⎛ 8⎞\n",
       "x - ── + ─── - ──── + O⎝x ⎠\n",
       "    6    120   5040        "
      ]
     },
     "execution_count": 446,
     "metadata": {},
     "output_type": "execute_result"
    }
   ],
   "source": [
    "series(tanx*cosx,n=8)"
   ]
  },
  {
   "cell_type": "code",
   "execution_count": 447,
   "metadata": {},
   "outputs": [
    {
     "data": {
      "image/png": "[encoded data removed]",
      "text/latex": [
       "$\\displaystyle x + \\frac{x^{3}}{3} + \\frac{2 x^{5}}{15} + \\frac{17 x^{7}}{315} + O\\left(x^{8}\\right)$"
      ],
      "text/plain": [
       "     3      5       7        \n",
       "    x    2⋅x    17⋅x     ⎛ 8⎞\n",
       "x + ── + ──── + ───── + O⎝x ⎠\n",
       "    3     15     315         "
      ]
     },
     "execution_count": 447,
     "metadata": {},
     "output_type": "execute_result"
    }
   ],
   "source": [
    "series(sinx/cosx,n=8)"
   ]
  },
  {
   "cell_type": "markdown",
   "metadata": {},
   "source": [
    "Y esta serie debe ser igual a 1. Pero `sinx` como `cosx`se conocen solo con una precisión limitada, obtenemos `1` con la misma precisión."
   ]
  },
  {
   "cell_type": "code",
   "execution_count": 448,
   "metadata": {},
   "outputs": [
    {
     "data": {
      "image/png": "[encoded data removed]",
      "text/latex": [
       "$\\displaystyle 1 + O\\left(x^{8}\\right)$"
      ],
      "text/plain": [
       "     ⎛ 8⎞\n",
       "1 + O⎝x ⎠"
      ]
     },
     "execution_count": 448,
     "metadata": {},
     "output_type": "execute_result"
    }
   ],
   "source": [
    "series(sinx**2+cosx**2,n=8)"
   ]
  },
  {
   "cell_type": "markdown",
   "metadata": {},
   "source": [
    "Aquí los términos iniciales se han cancelado, y el resultado se puede obtener solo con una precisión menor."
   ]
  },
  {
   "cell_type": "code",
   "execution_count": 449,
   "metadata": {},
   "outputs": [
    {
     "data": {
      "image/png": "[encoded data removed]",
      "text/latex": [
       "$\\displaystyle \\frac{1}{2} - \\frac{x^{2}}{24} + \\frac{x^{4}}{720} + O\\left(x^{6}\\right)$"
      ],
      "text/plain": [
       "     2     4        \n",
       "1   x     x     ⎛ 6⎞\n",
       "─ - ── + ─── + O⎝x ⎠\n",
       "2   24   720        "
      ]
     },
     "execution_count": 449,
     "metadata": {},
     "output_type": "execute_result"
    }
   ],
   "source": [
    "series((1-cosx)/x**2,n=6)"
   ]
  },
  {
   "cell_type": "markdown",
   "metadata": {},
   "source": [
    "Centremos nuestro desarrollo en serie del `coseno` en $\\pi$"
   ]
  },
  {
   "cell_type": "code",
   "execution_count": 450,
   "metadata": {},
   "outputs": [
    {
     "data": {
      "image/png": "[encoded data removed]",
      "text/latex": [
       "$\\displaystyle -1 + \\frac{\\left(x - \\pi\\right)^{2}}{2} - \\frac{\\left(x - \\pi\\right)^{4}}{24} + \\frac{\\left(x - \\pi\\right)^{6}}{720} + O\\left(\\left(x - \\pi\\right)^{8}; x\\rightarrow \\pi\\right)$"
      ],
      "text/plain": [
       "            2          4          6                     \n",
       "     (x - π)    (x - π)    (x - π)     ⎛       8       ⎞\n",
       "-1 + ──────── - ──────── + ──────── + O⎝(x - π) ; x → π⎠\n",
       "        2          24        720                        "
      ]
     },
     "execution_count": 450,
     "metadata": {},
     "output_type": "execute_result"
    }
   ],
   "source": [
    "cosx=series(cos(x),x,pi,n=8)\n",
    "cosx"
   ]
  },
  {
   "cell_type": "markdown",
   "metadata": {},
   "source": [
    "Las series pueden ser diferenciadas e integradas."
   ]
  },
  {
   "cell_type": "code",
   "execution_count": 451,
   "metadata": {},
   "outputs": [
    {
     "data": {
      "image/png": "[encoded data removed]",
      "text/latex": [
       "$\\displaystyle 1 - \\frac{x^{2}}{2} + \\frac{x^{4}}{24} - \\frac{x^{6}}{720} + O\\left(x^{7}\\right)$"
      ],
      "text/plain": [
       "     2    4     6        \n",
       "    x    x     x     ⎛ 7⎞\n",
       "1 - ── + ── - ─── + O⎝x ⎠\n",
       "    2    24   720        "
      ]
     },
     "execution_count": 451,
     "metadata": {},
     "output_type": "execute_result"
    }
   ],
   "source": [
    "diff(sinx,x)"
   ]
  },
  {
   "cell_type": "code",
   "execution_count": 452,
   "metadata": {},
   "outputs": [
    {
     "data": {
      "image/png": "[encoded data removed]",
      "text/latex": [
       "$\\displaystyle \\frac{\\left(x - \\pi\\right)^{3}}{6} - \\frac{\\left(x - \\pi\\right)^{5}}{120} + \\frac{\\left(x - \\pi\\right)^{7}}{5040} + O\\left(x\\right)$"
      ],
      "text/plain": [
       "       3          5          7       \n",
       "(x - π)    (x - π)    (x - π)        \n",
       "──────── - ──────── + ──────── + O(x)\n",
       "   6         120        5040         "
      ]
     },
     "execution_count": 452,
     "metadata": {},
     "output_type": "execute_result"
    }
   ],
   "source": [
    "integrate(cosx,x)"
   ]
  },
  {
   "cell_type": "markdown",
   "metadata": {},
   "source": [
    "Una serie (a partir de un término pequeño) puede sustituirse por una variable de expansión en otra serie. Aquí están $\\sin(\\tan(x))$ y $\\tan(\\sin(x))$."
   ]
  },
  {
   "cell_type": "code",
   "execution_count": 454,
   "metadata": {},
   "outputs": [
    {
     "data": {
      "image/png": "[encoded data removed]",
      "text/latex": [
       "$\\displaystyle x + \\frac{x^{3}}{6} - \\frac{x^{5}}{40} - \\frac{55 x^{7}}{1008} + O\\left(x^{8}\\right)$"
      ],
      "text/plain": [
       "     3    5       7        \n",
       "    x    x    55⋅x     ⎛ 8⎞\n",
       "x + ── - ── - ───── + O⎝x ⎠\n",
       "    6    40    1008        "
      ]
     },
     "execution_count": 454,
     "metadata": {},
     "output_type": "execute_result"
    }
   ],
   "source": [
    "st=series(sinx.subs(x,tanx),n=8)\n",
    "st"
   ]
  },
  {
   "cell_type": "code",
   "execution_count": 455,
   "metadata": {},
   "outputs": [
    {
     "data": {
      "image/png": "[encoded data removed]",
      "text/latex": [
       "$\\displaystyle - \\frac{55 x^{7}}{1008} - \\frac{x^{5}}{40} + \\frac{x^{3}}{6} + x$"
      ],
      "text/plain": [
       "      7    5    3    \n",
       "  55⋅x    x    x     \n",
       "- ───── - ── + ── + x\n",
       "   1008   40   6     "
      ]
     },
     "execution_count": 455,
     "metadata": {},
     "output_type": "execute_result"
    }
   ],
   "source": [
    "st=series(sinx.subs(x,tanx),n=8)\n",
    "st.removeO()"
   ]
  },
  {
   "cell_type": "code",
   "execution_count": 456,
   "metadata": {},
   "outputs": [
    {
     "data": {
      "image/png": "[encoded data removed]",
      "text/latex": [
       "$\\displaystyle x + \\frac{x^{3}}{6} - \\frac{x^{5}}{40} - \\frac{107 x^{7}}{5040} + O\\left(x^{8}\\right)$"
      ],
      "text/plain": [
       "     3    5        7        \n",
       "    x    x    107⋅x     ⎛ 8⎞\n",
       "x + ── - ── - ────── + O⎝x ⎠\n",
       "    6    40    5040         "
      ]
     },
     "execution_count": 456,
     "metadata": {},
     "output_type": "execute_result"
    }
   ],
   "source": [
    "ts=series(tanx.subs(x,sinx),n=8)\n",
    "ts"
   ]
  },
  {
   "cell_type": "code",
   "execution_count": 457,
   "metadata": {},
   "outputs": [
    {
     "data": {
      "image/png": "[encoded data removed]",
      "text/latex": [
       "$\\displaystyle \\frac{x^{7}}{30} + O\\left(x^{8}\\right)$"
      ],
      "text/plain": [
       " 7        \n",
       "x     ⎛ 8⎞\n",
       "── + O⎝x ⎠\n",
       "30        "
      ]
     },
     "execution_count": 457,
     "metadata": {},
     "output_type": "execute_result"
    }
   ],
   "source": [
    "series(ts-st,n=8)"
   ]
  },
  {
   "cell_type": "markdown",
   "metadata": {},
   "source": [
    "No es posible sustituir un valor numérico por la variable de expansión en una serie (y, por lo tanto, graficarla). Para este fin, primero hay que eliminar el término $\\mathcal{O}$, transformando una serie en un polinomio."
   ]
  },
  {
   "cell_type": "code",
   "execution_count": 97,
   "metadata": {},
   "outputs": [
    {
     "data": {
      "image/png": "[encoded data removed]",
      "text/latex": [
       "$$- \\frac{x^{7}}{5040} + \\frac{x^{5}}{120} - \\frac{x^{3}}{6} + x$$"
      ],
      "text/plain": [
       "    7      5    3    \n",
       "   x      x    x     \n",
       "- ──── + ─── - ── + x\n",
       "  5040   120   6     "
      ]
     },
     "execution_count": 97,
     "metadata": {},
     "output_type": "execute_result"
    }
   ],
   "source": [
    "sinx.removeO()"
   ]
  },
  {
   "cell_type": "markdown",
   "metadata": {},
   "source": [
    "## Integrales"
   ]
  },
  {
   "cell_type": "markdown",
   "metadata": {},
   "source": [
    "__Usando el método `.integrate()` o la función `integrate()`__,  \n",
    "integremos estas funciones:\n",
    "\n",
    "$$\\int{\\cos(x)^2}dx$$\n",
    "             $$\\int{\\frac{dx}{\\sin(x)}}$$\n",
    "                             $$\\int{\\frac{dx}{(x^2+a^2)^2}}$$\n",
    "\n"
   ]
  },
  {
   "cell_type": "markdown",
   "metadata": {},
   "source": [
    " #### Calculamos la integral de $$\\int{\\cos(x)^2}dx$$"
   ]
  },
  {
   "cell_type": "code",
   "execution_count": 137,
   "metadata": {},
   "outputs": [
    {
     "data": {
      "image/png": "[encoded data removed]",
      "text/latex": [
       "$\\displaystyle \\cos^{2}{\\left(x \\right)}$"
      ],
      "text/plain": [
       "   2   \n",
       "cos (x)"
      ]
     },
     "execution_count": 137,
     "metadata": {},
     "output_type": "execute_result"
    }
   ],
   "source": [
    "int1 = cos(x) ** 2\n",
    "int1"
   ]
  },
  {
   "cell_type": "markdown",
   "metadata": {},
   "source": [
    " #### Con Integral queda expresada la integral de la funcion "
   ]
  },
  {
   "cell_type": "code",
   "execution_count": 138,
   "metadata": {},
   "outputs": [
    {
     "data": {
      "image/png": "[encoded data removed]",
      "text/latex": [
       "$\\displaystyle \\int \\cos^{2}{\\left(x \\right)}\\, dx$"
      ],
      "text/plain": [
       "⌠           \n",
       "⎮    2      \n",
       "⎮ cos (x) dx\n",
       "⌡           "
      ]
     },
     "execution_count": 138,
     "metadata": {},
     "output_type": "execute_result"
    }
   ],
   "source": [
    "Integral(int1)  "
   ]
  },
  {
   "cell_type": "markdown",
   "metadata": {},
   "source": [
    "Integrate la resuelve"
   ]
  },
  {
   "cell_type": "code",
   "execution_count": 139,
   "metadata": {},
   "outputs": [
    {
     "data": {
      "image/png": "[encoded data removed]",
      "text/latex": [
       "$\\displaystyle \\frac{x}{2} + \\frac{\\sin{\\left(x \\right)} \\cos{\\left(x \\right)}}{2}$"
      ],
      "text/plain": [
       "x   sin(x)⋅cos(x)\n",
       "─ + ─────────────\n",
       "2         2      "
      ]
     },
     "execution_count": 139,
     "metadata": {},
     "output_type": "execute_result"
    }
   ],
   "source": [
    "integrate(int1)"
   ]
  },
  {
   "cell_type": "markdown",
   "metadata": {},
   "source": [
    "Y obtenemos  $$\\displaystyle \\frac{x}{2} + \\frac{\\sin{\\left(x \\right)} \\cos{\\left(x \\right)}}{2}$$"
   ]
  },
  {
   "cell_type": "markdown",
   "metadata": {},
   "source": [
    "#### Calculamos la integral de  $$\\int{\\frac{dx}{\\sin(x)}}$$"
   ]
  },
  {
   "cell_type": "code",
   "execution_count": 140,
   "metadata": {},
   "outputs": [
    {
     "data": {
      "image/png": "[encoded data removed]",
      "text/latex": [
       "$\\displaystyle \\frac{1}{\\sin{\\left(x \\right)}}$"
      ],
      "text/plain": [
       "  1   \n",
       "──────\n",
       "sin(x)"
      ]
     },
     "execution_count": 140,
     "metadata": {},
     "output_type": "execute_result"
    }
   ],
   "source": [
    "int2 =  1 / sin(x)\n",
    "int2"
   ]
  },
  {
   "cell_type": "code",
   "execution_count": 141,
   "metadata": {},
   "outputs": [
    {
     "data": {
      "image/png": "[encoded data removed]",
      "text/latex": [
       "$\\displaystyle \\int \\frac{1}{\\sin{\\left(x \\right)}}\\, dx$"
      ],
      "text/plain": [
       "⌠          \n",
       "⎮   1      \n",
       "⎮ ────── dx\n",
       "⎮ sin(x)   \n",
       "⌡          "
      ]
     },
     "execution_count": 141,
     "metadata": {},
     "output_type": "execute_result"
    }
   ],
   "source": [
    "Integral(int2)"
   ]
  },
  {
   "cell_type": "code",
   "execution_count": 142,
   "metadata": {},
   "outputs": [
    {
     "data": {
      "image/png": "[encoded data removed]",
      "text/latex": [
       "$\\displaystyle \\frac{\\log{\\left(\\cos{\\left(x \\right)} - 1 \\right)}}{2} - \\frac{\\log{\\left(\\cos{\\left(x \\right)} + 1 \\right)}}{2}$"
      ],
      "text/plain": [
       "log(cos(x) - 1)   log(cos(x) + 1)\n",
       "─────────────── - ───────────────\n",
       "       2                 2       "
      ]
     },
     "execution_count": 142,
     "metadata": {},
     "output_type": "execute_result"
    }
   ],
   "source": [
    "integrate(int2)"
   ]
  },
  {
   "cell_type": "markdown",
   "metadata": {},
   "source": [
    "$$\\displaystyle \\frac{\\log{\\left(\\cos{\\left(x \\right)} - 1 \\right)}}{2} - \\frac{\\log{\\left(\\cos{\\left(x \\right)} + 1 \\right)}}{2}$$"
   ]
  },
  {
   "cell_type": "markdown",
   "metadata": {},
   "source": [
    "Calculamos la integral de $$\\int{\\frac{dx}{(x^2+a^2)^2}}$$"
   ]
  },
  {
   "cell_type": "code",
   "execution_count": 143,
   "metadata": {},
   "outputs": [
    {
     "data": {
      "image/png": "[encoded data removed]",
      "text/latex": [
       "$\\displaystyle \\frac{1}{\\left(a^{2} + x^{2}\\right)^{2}}$"
      ],
      "text/plain": [
       "    1     \n",
       "──────────\n",
       "         2\n",
       "⎛ 2    2⎞ \n",
       "⎝a  + x ⎠ "
      ]
     },
     "execution_count": 143,
     "metadata": {},
     "output_type": "execute_result"
    }
   ],
   "source": [
    "x, a = symbols('x, a', real=True)\n",
    "\n",
    "int3 = 1 / (x**2 + a**2)**2\n",
    "int3"
   ]
  },
  {
   "cell_type": "code",
   "execution_count": 144,
   "metadata": {},
   "outputs": [
    {
     "data": {
      "image/png": "[encoded data removed]",
      "text/latex": [
       "$\\displaystyle \\int \\frac{1}{\\left(a^{2} + x^{2}\\right)^{2}}\\, dx$"
      ],
      "text/plain": [
       "⌠              \n",
       "⎮     1        \n",
       "⎮ ────────── dx\n",
       "⎮          2   \n",
       "⎮ ⎛ 2    2⎞    \n",
       "⎮ ⎝a  + x ⎠    \n",
       "⌡              "
      ]
     },
     "execution_count": 144,
     "metadata": {},
     "output_type": "execute_result"
    }
   ],
   "source": [
    "Integral(int3,x)"
   ]
  },
  {
   "cell_type": "code",
   "execution_count": 145,
   "metadata": {},
   "outputs": [
    {
     "data": {
      "image/png": "[encoded data removed]",
      "text/latex": [
       "$\\displaystyle \\frac{x}{2 a^{4} + 2 a^{2} x^{2}} + \\frac{\\operatorname{atan}{\\left(\\frac{x}{a} \\right)}}{2 a^{3}}$"
      ],
      "text/plain": [
       "                     ⎛x⎞\n",
       "                 atan⎜─⎟\n",
       "      x              ⎝a⎠\n",
       "────────────── + ───────\n",
       "   4      2  2        3 \n",
       "2⋅a  + 2⋅a ⋅x      2⋅a  "
      ]
     },
     "execution_count": 145,
     "metadata": {},
     "output_type": "execute_result"
    }
   ],
   "source": [
    "integrate(int3, x)"
   ]
  },
  {
   "cell_type": "markdown",
   "metadata": {},
   "source": [
    "El resultado es $$\\displaystyle \\frac{x}{2 a^{4} + 2 a^{2} x^{2}} + \\frac{\\operatorname{atan}{\\left(\\frac{x}{a} \\right)}}{2 a^{3}}$$"
   ]
  },
  {
   "cell_type": "markdown",
   "metadata": {},
   "source": [
    "Resolver:  $$\\int \\frac{1}{x \\left(x^{2} - 2\\right)^{2}}\\, dx$$"
   ]
  },
  {
   "cell_type": "code",
   "execution_count": 146,
   "metadata": {},
   "outputs": [
    {
     "data": {
      "image/png": "[encoded data removed]",
      "text/latex": [
       "$\\displaystyle \\frac{\\log{\\left(x \\right)}}{4} - \\frac{\\log{\\left(x^{2} - 2 \\right)}}{8} - \\frac{1}{4 x^{2} - 8}$"
      ],
      "text/plain": [
       "            ⎛ 2    ⎞           \n",
       "log(x)   log⎝x  - 2⎠      1    \n",
       "────── - ─────────── - ────────\n",
       "  4           8           2    \n",
       "                       4⋅x  - 8"
      ]
     },
     "execution_count": 146,
     "metadata": {},
     "output_type": "execute_result"
    }
   ],
   "source": [
    "integrate(1/(x*(x**2-2)**2),x)"
   ]
  },
  {
   "cell_type": "markdown",
   "metadata": {},
   "source": [
    "Resolver: $$ \\int \\frac{1}{e^{x} + 1}\\, dx $$"
   ]
  },
  {
   "cell_type": "code",
   "execution_count": 147,
   "metadata": {},
   "outputs": [
    {
     "data": {
      "image/png": "[encoded data removed]",
      "text/latex": [
       "$\\displaystyle x - \\log{\\left(e^{x} + 1 \\right)}$"
      ],
      "text/plain": [
       "       ⎛ x    ⎞\n",
       "x - log⎝ℯ  + 1⎠"
      ]
     },
     "execution_count": 147,
     "metadata": {},
     "output_type": "execute_result"
    }
   ],
   "source": [
    "integrate(1/(exp(x)+1),x)"
   ]
  },
  {
   "cell_type": "markdown",
   "metadata": {},
   "source": [
    "Resolver: $$ \\int \\log{\\left(x \\right)}\\, dx $$"
   ]
  },
  {
   "cell_type": "code",
   "execution_count": 148,
   "metadata": {},
   "outputs": [
    {
     "data": {
      "image/png": "[encoded data removed]",
      "text/latex": [
       "$\\displaystyle x \\log{\\left(x \\right)} - x$"
      ],
      "text/plain": [
       "x⋅log(x) - x"
      ]
     },
     "execution_count": 148,
     "metadata": {},
     "output_type": "execute_result"
    }
   ],
   "source": [
    "integrate(log(x),x)"
   ]
  },
  {
   "cell_type": "markdown",
   "metadata": {},
   "source": [
    "Resolver:  $$ \\int x \\sin{\\left(x \\right)}\\, dx $$"
   ]
  },
  {
   "cell_type": "code",
   "execution_count": 109,
   "metadata": {},
   "outputs": [
    {
     "data": {
      "image/png": "[encoded data removed]",
      "text/latex": [
       "$\\displaystyle - x \\cos{\\left(x \\right)} + \\sin{\\left(x \\right)}$"
      ],
      "text/plain": [
       "-x⋅cos(x) + sin(x)"
      ]
     },
     "execution_count": 109,
     "metadata": {},
     "output_type": "execute_result"
    }
   ],
   "source": [
    "integrate(x*sin(x),x)"
   ]
  },
  {
   "cell_type": "markdown",
   "metadata": {},
   "source": [
    "Resolver:       $$  \\int x e^{- x^{2}}\\, dx $$    "
   ]
  },
  {
   "cell_type": "code",
   "execution_count": 174,
   "metadata": {},
   "outputs": [
    {
     "data": {
      "image/png": "[encoded data removed]",
      "text/latex": [
       "$\\displaystyle \\int x e^{- x^{2}}\\, dx$"
      ],
      "text/plain": [
       "⌠          \n",
       "⎮      2   \n",
       "⎮    -x    \n",
       "⎮ x⋅ℯ    dx\n",
       "⌡          "
      ]
     },
     "execution_count": 174,
     "metadata": {},
     "output_type": "execute_result"
    }
   ],
   "source": [
    "a= Integral(x*exp(-x**2),x)\n",
    "a"
   ]
  },
  {
   "cell_type": "code",
   "execution_count": 157,
   "metadata": {},
   "outputs": [
    {
     "data": {
      "image/png": "[encoded data removed]",
      "text/latex": [
       "$\\displaystyle - \\frac{e^{- x^{2}}}{2}$"
      ],
      "text/plain": [
       "    2 \n",
       "  -x  \n",
       "-ℯ    \n",
       "──────\n",
       "  2   "
      ]
     },
     "execution_count": 157,
     "metadata": {},
     "output_type": "execute_result"
    }
   ],
   "source": [
    "integrate(x*exp(-x**2),x)"
   ]
  },
  {
   "cell_type": "markdown",
   "metadata": {},
   "source": [
    "### Queremos calcular la integral de $$ x^{x}\\ $$"
   ]
  },
  {
   "cell_type": "code",
   "execution_count": 149,
   "metadata": {},
   "outputs": [
    {
     "data": {
      "image/png": "[encoded data removed]",
      "text/latex": [
       "$\\displaystyle \\int x^{x}\\, dx$"
      ],
      "text/plain": [
       "⌠      \n",
       "⎮  x   \n",
       "⎮ x  dx\n",
       "⌡      "
      ]
     },
     "execution_count": 149,
     "metadata": {},
     "output_type": "execute_result"
    }
   ],
   "source": [
    "a=Integral(x**x,x)\n",
    "a"
   ]
  },
  {
   "cell_type": "code",
   "execution_count": 150,
   "metadata": {},
   "outputs": [
    {
     "name": "stdout",
     "output_type": "stream",
     "text": [
      "Integral(x**x, x)\n"
     ]
    }
   ],
   "source": [
    "print(a)"
   ]
  },
  {
   "cell_type": "code",
   "execution_count": 151,
   "metadata": {},
   "outputs": [
    {
     "data": {
      "image/png": "[encoded data removed]",
      "text/latex": [
       "$\\displaystyle \\int x^{x}\\, dx$"
      ],
      "text/plain": [
       "⌠      \n",
       "⎮  x   \n",
       "⎮ x  dx\n",
       "⌡      "
      ]
     },
     "execution_count": 151,
     "metadata": {},
     "output_type": "execute_result"
    }
   ],
   "source": [
    "integrate(x**x,x)"
   ]
  },
  {
   "cell_type": "markdown",
   "metadata": {},
   "source": [
    " no lo resuelve "
   ]
  },
  {
   "cell_type": "markdown",
   "metadata": {},
   "source": [
    " ### Escribiendo ahora $$\\int{x^n}dx$$"
   ]
  },
  {
   "cell_type": "code",
   "execution_count": 152,
   "metadata": {},
   "outputs": [
    {
     "data": {
      "text/latex": [
       "$\\displaystyle \\begin{cases} \\frac{x^{n + 1}}{n + 1} & \\text{for}\\: n \\neq -1 \\\\\\log{\\left(x \\right)} & \\text{otherwise} \\end{cases}$"
      ],
      "text/plain": [
       "⎧ n + 1            \n",
       "⎪x                 \n",
       "⎪──────  for n ≠ -1\n",
       "⎨n + 1             \n",
       "⎪                  \n",
       "⎪log(x)  otherwise \n",
       "⎩                  "
      ]
     },
     "execution_count": 152,
     "metadata": {},
     "output_type": "execute_result"
    }
   ],
   "source": [
    "h=integrate(x**n,x)\n",
    "h"
   ]
  },
  {
   "cell_type": "code",
   "execution_count": 153,
   "metadata": {},
   "outputs": [
    {
     "data": {
      "text/latex": [
       "$\\displaystyle \\begin{cases} \\frac{x^{n + 1}}{n + 1} & \\text{for}\\: n \\neq -1 \\\\\\log{\\left(x \\right)} & \\text{otherwise} \\end{cases}$"
      ],
      "text/plain": [
       "⎧ n + 1            \n",
       "⎪x                 \n",
       "⎪──────  for n ≠ -1\n",
       "⎨n + 1             \n",
       "⎪                  \n",
       "⎪log(x)  otherwise \n",
       "⎩                  "
      ]
     },
     "execution_count": 153,
     "metadata": {},
     "output_type": "execute_result"
    }
   ],
   "source": [
    "h.doit()"
   ]
  },
  {
   "cell_type": "markdown",
   "metadata": {},
   "source": [
    "Nos da con la salida latex  $$\\begin{cases} \\frac{x^{n + 1}}{n + 1} & \\text{for}\\: n \\neq -1 \\\\\\log{\\left(x \\right)} & \\text{otherwise} \\end{cases}$$"
   ]
  },
  {
   "cell_type": "markdown",
   "metadata": {},
   "source": [
    "#### Calculamos otra integral "
   ]
  },
  {
   "cell_type": "markdown",
   "metadata": {},
   "source": [
    "$$\\displaystyle \\int \\frac{\\left(x^{4} + x^{2} e^{x} - x^{2} - 2 x e^{x} - 2 x - e^{x}\\right) e^{x}}{\\left(x - 1\\right)^{2} \\left(x + 1\\right)^{2} \\left(e^{x} + 1\\right)}\\, dx$$"
   ]
  },
  {
   "cell_type": "code",
   "execution_count": 154,
   "metadata": {},
   "outputs": [
    {
     "data": {
      "image/png": "[encoded data removed]",
      "text/latex": [
       "$\\displaystyle \\int \\frac{\\left(x^{4} + x^{2} e^{x} - x^{2} - 2 x e^{x} - 2 x - e^{x}\\right) e^{x}}{\\left(x - 1\\right)^{2} \\left(x + 1\\right)^{2} \\left(e^{x} + 1\\right)}\\, dx$"
      ],
      "text/plain": [
       "⌠                                            \n",
       "⎮ ⎛ 4    2  x    2        x          x⎞  x   \n",
       "⎮ ⎝x  + x ⋅ℯ  - x  - 2⋅x⋅ℯ  - 2⋅x - ℯ ⎠⋅ℯ    \n",
       "⎮ ──────────────────────────────────────── dx\n",
       "⎮               2        2 ⎛ x    ⎞          \n",
       "⎮        (x - 1) ⋅(x + 1) ⋅⎝ℯ  + 1⎠          \n",
       "⌡                                            "
      ]
     },
     "execution_count": 154,
     "metadata": {},
     "output_type": "execute_result"
    }
   ],
   "source": [
    "integ = Integral((x**4 + x**2*exp(x) - x**2 - 2*x*exp(x) - 2*x -exp(x))*exp(x)/((x - 1)**2*(x + 1)**2*(exp(x) + 1)), x)\n",
    "integ"
   ]
  },
  {
   "cell_type": "code",
   "execution_count": 155,
   "metadata": {},
   "outputs": [
    {
     "data": {
      "image/png": "[encoded data removed]",
      "text/latex": [
       "$\\displaystyle \\log{\\left(e^{x} + 1 \\right)} + \\frac{e^{x}}{x^{2} - 1}$"
      ],
      "text/plain": [
       "                 x  \n",
       "   ⎛ x    ⎞     ℯ   \n",
       "log⎝ℯ  + 1⎠ + ──────\n",
       "               2    \n",
       "              x  - 1"
      ]
     },
     "execution_count": 155,
     "metadata": {},
     "output_type": "execute_result"
    }
   ],
   "source": [
    "integ.doit()"
   ]
  },
  {
   "cell_type": "markdown",
   "metadata": {},
   "source": [
    "El resultado en latex $$\\displaystyle \\log{\\left(e^{x} + 1 \\right)} + \\frac{e^{x}}{x^{2} - 1}$$"
   ]
  },
  {
   "cell_type": "markdown",
   "metadata": {},
   "source": [
    "Ahora calculamos  $$\\displaystyle \\int \\sin{\\left(x^{2} \\right)}\\, dx $$"
   ]
  },
  {
   "cell_type": "code",
   "execution_count": 332,
   "metadata": {},
   "outputs": [
    {
     "data": {
      "image/png": "[encoded data removed]",
      "text/latex": [
       "$\\displaystyle \\int \\sin{\\left(x^{2} \\right)}\\, dx$"
      ],
      "text/plain": [
       "⌠           \n",
       "⎮    ⎛ 2⎞   \n",
       "⎮ sin⎝x ⎠ dx\n",
       "⌡           "
      ]
     },
     "execution_count": 332,
     "metadata": {},
     "output_type": "execute_result"
    }
   ],
   "source": [
    "integ = Integral(sin(x**2), x)\n",
    "integ"
   ]
  },
  {
   "cell_type": "code",
   "execution_count": 336,
   "metadata": {},
   "outputs": [
    {
     "data": {
      "image/png": "[encoded data removed]",
      "text/latex": [
       "$\\displaystyle \\frac{3 \\sqrt{2} \\sqrt{\\pi} S\\left(\\frac{\\sqrt{2} x}{\\sqrt{\\pi}}\\right) \\Gamma\\left(\\frac{3}{4}\\right)}{8 \\Gamma\\left(\\frac{7}{4}\\right)}$"
      ],
      "text/plain": [
       "         ⎛√2⋅x⎞       \n",
       "3⋅√2⋅√π⋅S⎜────⎟⋅Γ(3/4)\n",
       "         ⎝ √π ⎠       \n",
       "──────────────────────\n",
       "       8⋅Γ(7/4)       "
      ]
     },
     "execution_count": 336,
     "metadata": {},
     "output_type": "execute_result"
    }
   ],
   "source": [
    "integ.doit()"
   ]
  },
  {
   "cell_type": "markdown",
   "metadata": {},
   "source": [
    "Esta es una integral sin evaluar."
   ]
  },
  {
   "cell_type": "markdown",
   "metadata": {},
   "source": [
    "Resolvemos:        $$\\displaystyle \\int \\sin{\\left(x \\right)}\\, dx = - \\cos{\\left(x \\right)}  $$"
   ]
  },
  {
   "cell_type": "code",
   "execution_count": 338,
   "metadata": {},
   "outputs": [
    {
     "data": {
      "image/png": "[encoded data removed]",
      "text/latex": [
       "$\\displaystyle \\int \\sin{\\left(x \\right)}\\, dx = - \\cos{\\left(x \\right)}$"
      ],
      "text/plain": [
       "⌠                    \n",
       "⎮ sin(x) dx = -cos(x)\n",
       "⌡                    "
      ]
     },
     "execution_count": 338,
     "metadata": {},
     "output_type": "execute_result"
    }
   ],
   "source": [
    "a=Integral(sin(x),x)\n",
    "Eq(a,a.doit()) "
   ]
  },
  {
   "cell_type": "code",
   "execution_count": 339,
   "metadata": {},
   "outputs": [
    {
     "data": {
      "image/png": "[encoded data removed]",
      "text/latex": [
       "$\\displaystyle - \\cos{\\left(x \\right)}$"
      ],
      "text/plain": [
       "-cos(x)"
      ]
     },
     "execution_count": 339,
     "metadata": {},
     "output_type": "execute_result"
    }
   ],
   "source": [
    "a.doit()"
   ]
  },
  {
   "cell_type": "markdown",
   "metadata": {},
   "source": [
    "Podemos computar integrales definidas\n",
    "\n",
    "$$\\int_0^\\infty e^{-x}\\,dx,$$"
   ]
  },
  {
   "cell_type": "code",
   "execution_count": 156,
   "metadata": {},
   "outputs": [
    {
     "data": {
      "image/png": "[encoded data removed]",
      "text/latex": [
       "$\\displaystyle \\int\\limits_{0}^{\\infty} e^{- x}\\, dx$"
      ],
      "text/plain": [
       "∞       \n",
       "⌠       \n",
       "⎮  -x   \n",
       "⎮ ℯ   dx\n",
       "⌡       \n",
       "0       "
      ]
     },
     "execution_count": 156,
     "metadata": {},
     "output_type": "execute_result"
    }
   ],
   "source": [
    "Integral(exp(-x), (x, 0, oo))"
   ]
  },
  {
   "cell_type": "code",
   "execution_count": 157,
   "metadata": {},
   "outputs": [
    {
     "data": {
      "image/png": "[encoded data removed]",
      "text/latex": [
       "$\\displaystyle 1$"
      ],
      "text/plain": [
       "1"
      ]
     },
     "execution_count": 157,
     "metadata": {},
     "output_type": "execute_result"
    }
   ],
   "source": [
    "integrate(exp(-x), (x, 0, oo))"
   ]
  },
  {
   "cell_type": "markdown",
   "metadata": {},
   "source": [
    "$$\\int_{-\\infty}^{\\infty}\\int_{-\\infty}^{\\infty} e^{- x^{2} - y^{2}}\\, dx\\, dy,$$"
   ]
  },
  {
   "cell_type": "code",
   "execution_count": 158,
   "metadata": {},
   "outputs": [
    {
     "data": {
      "image/png": "[encoded data removed]",
      "text/latex": [
       "$\\displaystyle \\int\\limits_{-\\infty}^{\\infty}\\int\\limits_{-\\infty}^{\\infty} e^{- x^{2} - y^{2}}\\, dx\\, dy$"
      ],
      "text/plain": [
       "∞  ∞                  \n",
       "⌠  ⌠                  \n",
       "⎮  ⎮      2    2      \n",
       "⎮  ⎮   - x  - y       \n",
       "⎮  ⎮  ℯ          dx dy\n",
       "⌡  ⌡                  \n",
       "-∞ -∞                 "
      ]
     },
     "execution_count": 158,
     "metadata": {},
     "output_type": "execute_result"
    }
   ],
   "source": [
    "Integral(exp(-x**2 - y**2), (x, -oo, oo), (y, -oo, oo))"
   ]
  },
  {
   "cell_type": "code",
   "execution_count": 159,
   "metadata": {},
   "outputs": [
    {
     "data": {
      "image/png": "[encoded data removed]",
      "text/latex": [
       "$\\displaystyle \\pi$"
      ],
      "text/plain": [
       "π"
      ]
     },
     "execution_count": 159,
     "metadata": {},
     "output_type": "execute_result"
    }
   ],
   "source": [
    "integrate(exp(-x**2 - y**2), (x, -oo, oo), (y, -oo, oo))"
   ]
  },
  {
   "cell_type": "markdown",
   "metadata": {},
   "source": [
    "#### _ Esto ha sido un recorrido simple por algunas de las posibilidades que ofrece SymPy.\n",
    "El cálculo simbólico es un terreno díficil y este paquete avanza a pasos agigantados gracias a un grupo de desarrolladores siempre dispuestos a mejorar y escuchar sugerencias.\n",
    "Sus posibilidades no acaban aquí."
   ]
  },
  {
   "cell_type": "code",
   "execution_count": null,
   "metadata": {},
   "outputs": [],
   "source": []
  }
 ],
 "metadata": {
  "kernelspec": {
   "display_name": "Python 3",
   "language": "python",
   "name": "python3"
  },
  "language_info": {
   "codemirror_mode": {
    "name": "ipython",
    "version": 3
   },
   "file_extension": ".py",
   "mimetype": "text/x-python",
   "name": "python",
   "nbconvert_exporter": "python",
   "pygments_lexer": "ipython3",
   "version": "3.6.9"
  }
 },
 "nbformat": 4,
 "nbformat_minor": 2
}
